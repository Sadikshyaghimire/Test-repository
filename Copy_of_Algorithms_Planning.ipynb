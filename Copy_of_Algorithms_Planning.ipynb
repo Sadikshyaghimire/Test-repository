{
  "nbformat": 4,
  "nbformat_minor": 0,
  "metadata": {
    "colab": {
      "provenance": [],
      "include_colab_link": true
    },
    "kernelspec": {
      "name": "python3",
      "display_name": "Python 3"
    },
    "language_info": {
      "name": "python"
    }
  },
  "cells": [
    {
      "cell_type": "markdown",
      "metadata": {
        "id": "view-in-github",
        "colab_type": "text"
      },
      "source": [
        "<a href=\"https://colab.research.google.com/github/Sadikshyaghimire/Test-repository/blob/master/Copy_of_Algorithms_Planning.ipynb\" target=\"_parent\"><img src=\"https://colab.research.google.com/assets/colab-badge.svg\" alt=\"Open In Colab\"/></a>"
      ]
    },
    {
      "cell_type": "markdown",
      "source": [
        "##**Name**: Sadikshya Ghimire<br>\n",
        "##Student ID: 23140745"
      ],
      "metadata": {
        "id": "YAycb2lWINhj"
      }
    },
    {
      "cell_type": "markdown",
      "source": [
        "##Algorithm Plans"
      ],
      "metadata": {
        "id": "XVDsZvXJIWq2"
      }
    },
    {
      "cell_type": "markdown",
      "source": [
        "##**1. Do something for each value**"
      ],
      "metadata": {
        "id": "F0ODCoUmJJLD"
      }
    },
    {
      "cell_type": "code",
      "source": [
        "#Code snippet\n",
        "for value in list:\n",
        "  print(value)\n",
        "#This plan will print each value in the list."
      ],
      "metadata": {
        "id": "R_mVEMQbIadZ",
        "colab": {
          "base_uri": "https://localhost:8080/",
          "height": 218
        },
        "outputId": "14f3d844-9995-414e-a6b2-04170360e49b"
      },
      "execution_count": null,
      "outputs": [
        {
          "output_type": "error",
          "ename": "TypeError",
          "evalue": "ignored",
          "traceback": [
            "\u001b[0;31m---------------------------------------------------------------------------\u001b[0m",
            "\u001b[0;31mTypeError\u001b[0m                                 Traceback (most recent call last)",
            "\u001b[0;32m<ipython-input-1-fa73ebcdc1ba>\u001b[0m in \u001b[0;36m<cell line: 2>\u001b[0;34m()\u001b[0m\n\u001b[1;32m      1\u001b[0m \u001b[0;31m#Code snippet\u001b[0m\u001b[0;34m\u001b[0m\u001b[0;34m\u001b[0m\u001b[0m\n\u001b[0;32m----> 2\u001b[0;31m \u001b[0;32mfor\u001b[0m \u001b[0mvalue\u001b[0m \u001b[0;32min\u001b[0m \u001b[0mlist\u001b[0m\u001b[0;34m:\u001b[0m\u001b[0;34m\u001b[0m\u001b[0;34m\u001b[0m\u001b[0m\n\u001b[0m\u001b[1;32m      3\u001b[0m   \u001b[0mprint\u001b[0m\u001b[0;34m(\u001b[0m\u001b[0mvalue\u001b[0m\u001b[0;34m)\u001b[0m\u001b[0;34m\u001b[0m\u001b[0;34m\u001b[0m\u001b[0m\n\u001b[1;32m      4\u001b[0m \u001b[0;31m#This plan will print each value in the list.\u001b[0m\u001b[0;34m\u001b[0m\u001b[0;34m\u001b[0m\u001b[0m\n",
            "\u001b[0;31mTypeError\u001b[0m: 'type' object is not iterable"
          ]
        }
      ]
    },
    {
      "cell_type": "markdown",
      "source": [
        "##**2. Filter**"
      ],
      "metadata": {
        "id": "ShZa_VZaJWYk"
      }
    },
    {
      "cell_type": "code",
      "source": [
        "#Code snippet\n",
        "new_list = [value for value in list if value > 10]\n",
        "\n",
        "#This plan will create a new list that contains only the values in the original list that are greater than 10."
      ],
      "metadata": {
        "id": "VyAcJ5xLIxJy"
      },
      "execution_count": null,
      "outputs": []
    },
    {
      "cell_type": "markdown",
      "source": [
        "##**3. Map**"
      ],
      "metadata": {
        "id": "AQi52VfVJaPX"
      }
    },
    {
      "cell_type": "code",
      "source": [
        "#Code snippet\n",
        "new_list = [function(value) for value in list]\n",
        "\n",
        "#This plan will create a new list that contains the results of applying the function to each value in the original list."
      ],
      "metadata": {
        "id": "ENifxq4cI30z"
      },
      "execution_count": null,
      "outputs": []
    },
    {
      "cell_type": "markdown",
      "source": [
        "##**4. Collect results in a new list**"
      ],
      "metadata": {
        "id": "xqA6182hJsjd"
      }
    },
    {
      "cell_type": "code",
      "source": [
        "#Code snippet\n",
        "for value in list:\n",
        "  if value % 2 == 0:\n",
        "    even_numbers.append(value)\n",
        "\n",
        "#This plan will collect all of the even numbers in the list and store them in a new list called even_numbers."
      ],
      "metadata": {
        "id": "0va6E0w5I_8K"
      },
      "execution_count": null,
      "outputs": []
    },
    {
      "cell_type": "markdown",
      "source": [
        "##**5. Keep a running total**"
      ],
      "metadata": {
        "id": "o1YifF9xKN9N"
      }
    },
    {
      "cell_type": "code",
      "source": [
        "lst = [1 ,2,3]\n",
        "total = 0\n",
        "for value in lst:\n",
        "  total += value\n",
        "\n",
        "#This plan will keep a running total of the values in the list.\n"
      ],
      "metadata": {
        "id": "cr7U_jQVI9zR"
      },
      "execution_count": null,
      "outputs": []
    },
    {
      "cell_type": "markdown",
      "source": [
        "##**6. Keep a counter**"
      ],
      "metadata": {
        "id": "PqOOHrJIKTpu"
      }
    },
    {
      "cell_type": "code",
      "source": [
        "count = 0\n",
        "for value in list:\n",
        "  if value == 'apple':\n",
        "    count += 1\n",
        "\n",
        "#This plan will keep a count of the number of times the value 'apple' appears in the list."
      ],
      "metadata": {
        "id": "ilgcQF3sJD0A"
      },
      "execution_count": null,
      "outputs": []
    },
    {
      "cell_type": "markdown",
      "source": [
        "##**7. Find something with a “linear search”**"
      ],
      "metadata": {
        "id": "bWPpjAJ2K1Tj"
      }
    },
    {
      "cell_type": "code",
      "source": [
        "found_value = False\n",
        "for value in list:\n",
        "  if value == 'apple':\n",
        "    found_value = True\n",
        "    break\n",
        "#This plan will search the list for the value 'apple' and return True if it is found, or False if it is not found."
      ],
      "metadata": {
        "id": "RCAEki69JCX5"
      },
      "execution_count": null,
      "outputs": []
    },
    {
      "cell_type": "markdown",
      "source": [
        "##**8. Best of anything**"
      ],
      "metadata": {
        "id": "1F6oX5HFK4Xq"
      }
    },
    {
      "cell_type": "code",
      "source": [
        "best_value = None\n",
        "for value in list:\n",
        "  if best_value is None or value > best_value:\n",
        "    best_value = value\n",
        "\n",
        "#This plan will find the best value in the list and return it."
      ],
      "metadata": {
        "id": "u8B0qhMxIo5v"
      },
      "execution_count": null,
      "outputs": []
    },
    {
      "cell_type": "markdown",
      "source": [
        "# **9. Go Home Early**"
      ],
      "metadata": {
        "id": "Iy9n3JuN_Qzf"
      }
    },
    {
      "cell_type": "markdown",
      "source": [
        "#1. Find the sum of a list of numbers.\n",
        "Input = list of number <br>\n",
        "\n",
        "Output= sum <br>\n",
        "\n",
        "examples = list can be [1,2,3,4] <br> sum = 10\n",
        "\n",
        "plans= Run in Total , For each  \n"
      ],
      "metadata": {
        "id": "NKKsm3dbAbbr"
      }
    },
    {
      "cell_type": "markdown",
      "source": [
        "\n",
        "#2. Count how many numbers in a list are positive\n",
        "Input: List of numbers <br>\n",
        "Output:count of positive numbers in a list <br>\n",
        "examples:list=[1,2,3,4], count = 4 <br>\n",
        "Plans: Counter, for each, filter<br>\n",
        " "
      ],
      "metadata": {
        "id": "vDC8eddjApVZ"
      }
    },
    {
      "cell_type": "markdown",
      "source": [
        "#3. Find the sum of only the positive numbers in a list of numbers.\n",
        "Input list of numbers<br>\n",
        "Output sum of posotive numbers from a list<br>\n",
        "examples list=[1,2,3,4] sum of positive number= 10 <br>\n",
        "Plans: \" running total, for each, filter <br>\n"
      ],
      "metadata": {
        "id": "O0J6vBfQAruE"
      }
    },
    {
      "cell_type": "markdown",
      "source": [
        "#4. Given a list of numbers, find the index of a target number.\n",
        "Input: list of numbers, targeted numbers<br>\n",
        "Output index of targeted number<br>\n",
        "examples: list = [4,7,6,5] index of 6 = 2 <br>\n",
        "Plans: \"linear search\"  <br>\n"
      ],
      "metadata": {
        "id": "s8_WmNejAvbr"
      }
    },
    {
      "cell_type": "markdown",
      "source": [
        "\n",
        "#5. In a list of numbers, find the index of the first positive value.\n",
        "Input: list of numbers, \n",
        "\n",
        "Output: first positive value's index\n",
        "\n",
        "\n",
        "examples: list = [-2,5,7,3], index = 1\n",
        "\n",
        "\n",
        "Plans: filter, go home early"
      ],
      "metadata": {
        "id": "joYarRMgBgtb"
      }
    },
    {
      "cell_type": "markdown",
      "source": [
        "\n",
        "#6. Square the numbers in a list in-place.\n",
        "Input: list of numbers,\n",
        "\n",
        "Output:square of the input values in the same list\n",
        "\n",
        "\n",
        "examples: list=[1,2,3,4], list= [ 1,4,9,16]\n",
        "\n",
        "\n",
        "Plans: \"map in place\",\"for each\""
      ],
      "metadata": {
        "id": "WsujdzeXBi5C"
      }
    },
    {
      "cell_type": "markdown",
      "source": [
        "\n",
        "#7. Square the numbers in a list, returning a new list.\n",
        "Input: list of number\n",
        "\n",
        "Output: new list with square of given list\n",
        "\n",
        "\n",
        "examples: list[3,5,7], new_list[9,25,49] \n",
        "\n",
        "\n",
        "Plans:\"for each\", \"map\""
      ],
      "metadata": {
        "id": "AY53nWpnBqZe"
      }
    },
    {
      "cell_type": "markdown",
      "source": [
        "#8. Count how many even values are in a list of integers.\n",
        "\n",
        "Input: List of integers with even numbers\n",
        "\n",
        "\n",
        "Output: Count of even numbers present in the list\n",
        "\n",
        "\n",
        "examples:list= [1,2,4,6,7,9,10] count = 4\n",
        "\n",
        "\n",
        "Plans: \"counter\",\"for each\",\"filter\""
      ],
      "metadata": {
        "id": "mNM28gnWBrop"
      }
    },
    {
      "cell_type": "markdown",
      "source": [
        "\n",
        "#9. Given a list of numbers, calculate the sum of the squares.\n",
        "Input: list of numbers\n",
        "\n",
        "Output: sum of square of lists\n",
        "\n",
        "\n",
        "examples: list=[2,1,4], sum= 21\n",
        "\n",
        "\n",
        "Plans: for each , running total, map"
      ],
      "metadata": {
        "id": "5KBjh_YuBwuQ"
      }
    },
    {
      "cell_type": "markdown",
      "source": [
        "\n",
        "#10. Find the sum of the even numbers in a list of integers.\n",
        "\n",
        "Input: list of integer numbers\n",
        "\n",
        "Output: sum of even number from the given list\n",
        "\n",
        "\n",
        "examples: list=[1,2,3,5,6,7,9,4] sum=12\n",
        "\n",
        "\n",
        "Plans:\"for each\", \"filter\" , \"running total\""
      ],
      "metadata": {
        "id": "sLqHzL6OBzsl"
      }
    },
    {
      "cell_type": "markdown",
      "source": [
        "#11. Calculate the sum of the odd squares of a list of integers.\n",
        "Input: list of numbers \n",
        "\n",
        "Output: sum of odd squares from the given list\n",
        "\n",
        "examples: list = [1,2,3,4,6,7,8] sum =59\n",
        "\n",
        "Plans: \"map\", \"filter\", \"for each\",\"running total\""
      ],
      "metadata": {
        "id": "CHdKLD13Ds2o"
      }
    },
    {
      "cell_type": "markdown",
      "source": [
        "\n",
        "#12. Find the index of the first string beginning with \"the\" in a list of strings.\n",
        "\n",
        "Input: list of strings\n",
        "\n",
        "Output: index of the first string beginning with \"the\"\n",
        "\n",
        "examples: list=[\"the person\",\"cow\", \" the campus director\"] index=0\n",
        "\n",
        "Plans: \"filter\"  \"go home early\" \"counter\""
      ],
      "metadata": {
        "id": "Kbu-TegSDvV9"
      }
    },
    {
      "cell_type": "markdown",
      "source": [
        "#13. Given a list of numbers, find the number closest to 0.\n",
        "Input: list of numbers\n",
        "\n",
        "Output: the closest number to 0\n",
        "\n",
        "examples: list = [-3,1,5,7,20], closest number to zero is 1\n",
        "\n",
        "Plans:\"filter\", \"for each\""
      ],
      "metadata": {
        "id": "tURXKb3UDyus"
      }
    },
    {
      "cell_type": "markdown",
      "source": [
        "#14. Find the maximum value from a list of numbers.\n",
        "Input:list of numebers\n",
        "\n",
        "Output:max vlaue from the list\n",
        "\n",
        "examples:list=[2,5,10,45], maximum = 45\n",
        "\n",
        "Plans: linear search algorithm\""
      ],
      "metadata": {
        "id": "CUSKLGeaD2LD"
      }
    },
    {
      "cell_type": "markdown",
      "source": [
        "#15. Find the minimum value from a list of numbers.\n",
        "Input: List of number\n",
        "\n",
        "Output:minimum value from the list\n",
        "\n",
        "examples: list=[\"23,56,69,30,1\"] minimum value= 1\n",
        "\n",
        "Plans: linear search algorithm "
      ],
      "metadata": {
        "id": "_YuW5uWkD5Y_"
      }
    },
    {
      "cell_type": "markdown",
      "source": [
        "\n",
        "#16. Given a list of strings, find the sum of their lengths. \n",
        "\n",
        "Input: list of strings\n",
        "\n",
        "Output: sum of their length\n",
        "\n",
        "examples: list=[\"apple\",\"college\"] sum = 12\n",
        "\n",
        "Plans: \" running total\""
      ],
      "metadata": {
        "id": "qUuCLavDD8CO"
      }
    },
    {
      "cell_type": "markdown",
      "source": [
        "\n",
        "#17. Given a list of strings, count how many begin with \"a\".\n",
        "Input: list of strings\n",
        "\n",
        "Output: strings beginning with \"a\"\n",
        "\n",
        "examples: list=[\"ample\",\" brother\",\"senior\"] begins with \"a\"= 1\n",
        "\n",
        "Plans:  filter, keep a running total"
      ],
      "metadata": {
        "id": "DQWcNsCwD9jv"
      }
    },
    {
      "cell_type": "markdown",
      "source": [
        "#18. Given a list of numbers, find the index of the first number greater than 100.\n",
        "\n",
        "Input: list of numbers\n",
        "\n",
        "Output:index of first number greater than 100 \n",
        "\n",
        "examples: list=[ 45,69, 720] index= 2\n",
        "\n",
        "Plans: filter, keep a counter"
      ],
      "metadata": {
        "id": "Du9q2uM3EBC2"
      }
    },
    {
      "cell_type": "markdown",
      "source": [
        "\n",
        "#19. Given a list of numbers, find the index of the minimum value.\n",
        "\n",
        "Input: List of numbers\n",
        "\n",
        "Output:index of minimum value from the list\n",
        "\n",
        "examples: list=[1,4,65,100], index of minimum value = 0\n",
        "\n",
        "Plans: keep a counter , filter"
      ],
      "metadata": {
        "id": "AkLUnWbWEDC9"
      }
    },
    {
      "cell_type": "markdown",
      "source": [
        "\n",
        "#20. Given a list of strings, find the longest one.\n",
        "Input:list of strings\n",
        "\n",
        "Output: longest string\n",
        "\n",
        "examples: list=[\"pomegranate\" , \"cat\" ,\"bottle\"] lonest string = \"pomegranate\"\n",
        "\n",
        "Plans: best so far "
      ],
      "metadata": {
        "id": "OGLndYVPEEf2"
      }
    },
    {
      "cell_type": "markdown",
      "source": [
        "\n",
        "#21. Given a list of strings, find the index of the shortest one.\n",
        "Input:list of strings\n",
        "\n",
        "\n",
        "Output:index of shortest\n",
        "\n",
        "examples:list=[\"pomegranate\" , \"cat\" ,\"bottle\"] index of shortest string = 1\n",
        "\n",
        "Plans: filter, keep a counter "
      ],
      "metadata": {
        "id": "NSUESaXAEGVK"
      }
    },
    {
      "cell_type": "markdown",
      "source": [
        "#22. (Challenge:) Compute all the running totals from a list of numbers, returning the results in a new list.\n",
        "Input: list of numbers\n",
        "\n",
        "Output:list of running totals of numbers in the list\n",
        "\n",
        "examples:[4,5,6]=[15]\n",
        "\n",
        "Plans: collect results in a new list, keep a running total"
      ],
      "metadata": {
        "id": "vgaBT3DtEKpO"
      }
    },
    {
      "cell_type": "markdown",
      "source": [
        "\n",
        "#23. (Challenge:) Count the occurrences of each distinct string in a list, returning the result as a dictionary.\n",
        "Input:List of Strings\n",
        "\n",
        "Output:Dictionary of count of occurances of distinct string\n",
        "\n",
        "examples:[\"ramu,\"cat\",\"krish\",\"krish\",\"cat\",\"cat\"]\n",
        "=\n",
        "{\"ramu\":1,\n",
        "\n",
        " \"cat\":3,\n",
        " \n",
        " \"krish\":2\n",
        " }\n",
        "\n",
        "Plans: Linear Search, Go home early"
      ],
      "metadata": {
        "id": "ViWCjprTENom"
      }
    },
    {
      "cell_type": "markdown",
      "source": [
        "#24. (Challenge:) Count how many pairs of duplicate values are in a list of strings.\n",
        "Input: list of strings\n",
        "\n",
        "Output:pairs of duplicate value in a list of strings\n",
        "\n",
        "examples: List = [\"college\" , \"book\" , \"assignment\", \"book\", \"python\", \"data\" , \"python\"] pairs of duplicate value = 2\n",
        "\n",
        "Plans:"
      ],
      "metadata": {
        "id": "PoKYYFV7EQ1i"
      }
    },
    {
      "cell_type": "markdown",
      "source": [
        "1. Name the plans used in the following code, and specify the problem this function solves."
      ],
      "metadata": {
        "id": "J0ZPbY5AInpK"
      }
    },
    {
      "cell_type": "code",
      "source": [
        "def exercise1(numbers):\n",
        "    for i, value in enumerate(numbers):\n",
        "        numbers[i] = 10 * value\n",
        "    return numbers"
      ],
      "metadata": {
        "id": "2gCVpV6-PV6v"
      },
      "execution_count": 1,
      "outputs": []
    },
    {
      "cell_type": "code",
      "source": [
        "exercise1([10,20,30,40,50])"
      ],
      "metadata": {
        "colab": {
          "base_uri": "https://localhost:8080/"
        },
        "id": "kRrzK2QvPYIl",
        "outputId": "fdf4e4d8-c328-4196-b4bf-3efefac7b675"
      },
      "execution_count": 2,
      "outputs": [
        {
          "output_type": "execute_result",
          "data": {
            "text/plain": [
              "[100, 200, 300, 400, 500]"
            ]
          },
          "metadata": {},
          "execution_count": 2
        }
      ]
    },
    {
      "cell_type": "markdown",
      "source": [
        "The plans used in the following code are:\n",
        "\n",
        "`Do something for each value`<br>\n",
        "`Keep a counter`<br>\n",
        "The problem this function solves is to multiply each value in a list by 10.\n",
        "\n",
        "The function takes a list of numbers as input and returns a new list with each value multiplied by 10. The function uses a for loop to iterate over the list, and it uses the enumerate() function to keep track of the index of each value. Inside the loop, the function multiplies the value by 10 and stores the result back in the list at the same index.\n",
        "\n",
        "Here is a step-by-step explanation of how the function works:\n",
        "\n",
        "The function starts by creating a for loop that iterates over the list.\n",
        "Inside the loop, the function uses the enumerate() function to get the index of the current value.\n",
        "The function then multiplies the value by 10.\n",
        "The function then stores the result back in the list at the same index.\n",
        "The function continues iterating over the list until it reaches the end of the list.\n",
        "The function then returns the new list."
      ],
      "metadata": {
        "id": "PojJWDYOR-Z8"
      }
    },
    {
      "cell_type": "markdown",
      "source": [
        "2. Name the plans used in the following code, and specify the problem this function solves."
      ],
      "metadata": {
        "id": "kmvqPeyGQuEN"
      }
    },
    {
      "cell_type": "code",
      "source": [
        "def exercise2(numbers):\n",
        "    total = 0\n",
        "    for value in numbers:\n",
        "        cube = value ** 3\n",
        "        total += cube\n",
        "    return total"
      ],
      "metadata": {
        "id": "Qrj_8cjPQvfN"
      },
      "execution_count": null,
      "outputs": []
    },
    {
      "cell_type": "markdown",
      "source": [
        "The plans used in the following code are:\n",
        "\n",
        "`Do something for each value`<br>\n",
        "`Keep a running total`\n",
        "\n",
        "The problem this function solves is to find the sum of the cubes of the numbers in a list.\n",
        "\n",
        "The function takes a list of numbers as input and returns the sum of the cubes of the numbers. The function uses a for loop to iterate over the list, and it keeps a running total of the cubes of the numbers. Inside the loop, the function calculates the cube of the current value and adds it to the running total.\n",
        "\n",
        "Here is a step-by-step explanation of how the function works:\n",
        "\n",
        "The function starts by creating a for loop that iterates over the list.\n",
        "Inside the loop, the function calculates the cube of the current value.\n",
        "The function then adds the cube of the current value to the running total.\n",
        "The function continues iterating over the list until it reaches the end of the list.\n",
        "The function then returns the running total.\n"
      ],
      "metadata": {
        "id": "-QvAtXgxSQ3j"
      }
    },
    {
      "cell_type": "markdown",
      "source": [
        "3. Name the plans used in the following code, and specify the problem this function solves.\n"
      ],
      "metadata": {
        "id": "QBYBP6aeSWTD"
      }
    },
    {
      "cell_type": "code",
      "source": [
        "def exercise3(numbers, cutoff):\n",
        "    for i, value in enumerate(numbers):\n",
        "        if value >= cutoff:\n",
        "            return i\n",
        "    return -1"
      ],
      "metadata": {
        "id": "sj4x1lYHSbao"
      },
      "execution_count": null,
      "outputs": []
    },
    {
      "cell_type": "markdown",
      "source": [
        "The plans used in the following code are:\n",
        "\n",
        "`Do something for each value` <br>\n",
        "`Find something with a “linear search”` <br>\n",
        "\n",
        "The problem this function solves is to find the index of the first value in a list that is greater than or equal to a given cutoff value.\n",
        "\n",
        "The function takes a list of numbers and a cutoff value as input and returns the index of the first value in the list that is greater than or equal to the cutoff value. The function uses a for loop to iterate over the list, and it uses the enumerate() function to keep track of the index of each value. Inside the loop, the function checks if the current value is greater than or equal to the cutoff value. If it is, the function returns the index of the current value. If it is not, the function continues iterating over the list. If the function reaches the end of the list without finding a value that is greater than or equal to the cutoff value, the function returns -1.\n",
        "\n",
        "Here is a step-by-step explanation of how the function works:\n",
        "\n",
        "The function starts by creating a for loop that iterates over the list.\n",
        "Inside the loop, the function uses the enumerate() function to get the index of the current value.\n",
        "The function then checks if the current value is greater than or equal to the cutoff value.\n",
        "If the current value is greater than or equal to the cutoff value, the function returns the index of the current value.\n",
        "If the current value is not greater than or equal to the cutoff value, the function continues iterating over the list.\n",
        "If the function reaches the end of the list without finding a value that is greater than or equal to the cutoff value, the function returns -1.\n"
      ],
      "metadata": {
        "id": "NmzGphnzSieP"
      }
    },
    {
      "cell_type": "markdown",
      "source": [
        "4. Name the plans used in the following code, and specify the problem this function solves."
      ],
      "metadata": {
        "id": "YHxWWBwNSpVl"
      }
    },
    {
      "cell_type": "code",
      "source": [
        "def exercise4(strings, max_length):\n",
        "    counter = 0\n",
        "    for value in strings:\n",
        "        if len(value) > max_length:\n",
        "            counter += 1\n",
        "    return counter"
      ],
      "metadata": {
        "id": "fgpC939USsLN"
      },
      "execution_count": null,
      "outputs": []
    },
    {
      "cell_type": "markdown",
      "source": [
        "The plans used in the following code are:\n",
        "\n",
        "`Do something for each value` <br>\n",
        "`Keep a counter` <br>\n",
        "\n",
        "The problem this function solves is to count the number of strings in a list that are longer than a given length.\n",
        "\n",
        "The function takes a list of strings and a maximum length as input and returns the number of strings in the list that are longer than the maximum length. The function uses a for loop to iterate over the list, and it keeps a counter of the number of strings that are longer than the maximum length. Inside the loop, the function checks if the length of the current string is greater than the maximum length. If it is, the function increments the counter. If it is not, the function continues iterating over the list.\n",
        "\n",
        "Here is a step-by-step explanation of how the function works:\n",
        "\n",
        "The function starts by creating a for loop that iterates over the list.\n",
        "Inside the loop, the function checks if the length of the current string is greater than the maximum length.\n",
        "If the length of the current string is greater than the maximum length, the function increments the counter.\n",
        "If the length of the current string is not greater than the maximum length, the function continues iterating over the list.\n",
        "The function then returns the counter."
      ],
      "metadata": {
        "id": "3jfBwPL9S49f"
      }
    }
  ]
}