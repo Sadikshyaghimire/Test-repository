{
  "nbformat": 4,
  "nbformat_minor": 0,
  "metadata": {
    "colab": {
      "provenance": [],
      "include_colab_link": true
    },
    "kernelspec": {
      "name": "python3",
      "display_name": "Python 3"
    },
    "language_info": {
      "name": "python"
    }
  },
  "cells": [
    {
      "cell_type": "markdown",
      "metadata": {
        "id": "view-in-github",
        "colab_type": "text"
      },
      "source": [
        "<a href=\"https://colab.research.google.com/github/Sadikshyaghimire/Test-repository/blob/master/Copy_of_(S)_Memory_Tables_Linked_Lists.ipynb\" target=\"_parent\"><img src=\"https://colab.research.google.com/assets/colab-badge.svg\" alt=\"Open In Colab\"/></a>"
      ]
    },
    {
      "cell_type": "markdown",
      "source": [
        "# Your Name: Sadikshya Ghimire\n",
        "# Student ID: 23140745"
      ],
      "metadata": {
        "id": "awXPCdL88i24"
      }
    },
    {
      "cell_type": "markdown",
      "source": [
        "# Geometric Data\n",
        "\n",
        "Geometric data in data structures refers to any data that represents or describes a geometric object, such as points, lines, curves, polygons, and higher-dimensional shapes. Geometric data structures are used to efficiently store, query, and manipulate geometric data, which is common in many areas of computer science, including computer graphics, computer vision, robotics, and computational geometry.\n"
      ],
      "metadata": {
        "id": "NMEgNNW9pq6T"
      }
    },
    {
      "cell_type": "code",
      "source": [],
      "metadata": {
        "id": "MMB0z8M_Ppdd"
      },
      "execution_count": null,
      "outputs": []
    },
    {
      "cell_type": "code",
      "source": [
        "class Point:\n",
        "    def __init__(self, x, y):\n",
        "        self.x = x\n",
        "        self.y = y\n",
        "    def __repr__(self):\n",
        "        fmt = 'Point({!r}, {!r})'\n",
        "        return fmt.format(self.x, self.y)"
      ],
      "metadata": {
        "id": "_VcVdatSqZhj"
      },
      "execution_count": 2,
      "outputs": []
    },
    {
      "cell_type": "code",
      "source": [
        "p1 = Point(3,2)\n",
        "print(p1)\n",
        "print(p1.x)"
      ],
      "metadata": {
        "colab": {
          "base_uri": "https://localhost:8080/"
        },
        "id": "eEA9vvESrWSR",
        "outputId": "76f29478-9d3d-4cb2-fdcd-8b13ede10979"
      },
      "execution_count": 3,
      "outputs": [
        {
          "output_type": "stream",
          "name": "stdout",
          "text": [
            "Point(3, 2)\n",
            "3\n"
          ]
        }
      ]
    },
    {
      "cell_type": "markdown",
      "source": [
        "**QN 1) Create a point `p2` at `x=5,y=4`.**\n"
      ],
      "metadata": {
        "id": "l9C43FjKsC8z"
      }
    },
    {
      "cell_type": "code",
      "source": [
        "p2 = Point(5,4)\n",
        "print(p2)\n",
        "print(p2.x)\n"
      ],
      "metadata": {
        "id": "P8QU0MQmOR3e",
        "colab": {
          "base_uri": "https://localhost:8080/"
        },
        "outputId": "c4599296-e53a-44d7-ef8f-869f83cbe214"
      },
      "execution_count": 4,
      "outputs": [
        {
          "output_type": "stream",
          "name": "stdout",
          "text": [
            "Point(5, 4)\n",
            "5\n"
          ]
        }
      ]
    },
    {
      "cell_type": "markdown",
      "source": [
        "The class for a Vector is shown below which has addition and scale operations. Add in a function to perform Vector subtraction.\n",
        "\n"
      ],
      "metadata": {
        "id": "gx3X5w_jsoEY"
      }
    },
    {
      "cell_type": "code",
      "source": [
        "class Vector:\n",
        "    def __init__(self, x, y):\n",
        "        self.x = x\n",
        "        self.y = y\n",
        "    def __repr__(self):\n",
        "        fmt = 'Vector({!r}, {!r})'\n",
        "        return fmt.format(self.x, self.y)\n",
        "\n",
        "    def add(self, other):\n",
        "        return Vector(self.x + other.x, self.y + other.y)\n",
        "               \n",
        "    def scale(self, scalar):\n",
        "        return Vector(scalar * self.x, scalar * self.y)\n",
        "    def subtract(self, other):\n",
        "        return Vector(self.x - other.x, self.y - other.y)"
      ],
      "metadata": {
        "id": "KbuzWC0Urb86"
      },
      "execution_count": 5,
      "outputs": []
    },
    {
      "cell_type": "markdown",
      "source": [
        "**QN 2) Write code to add and subtract `p1` and `p2` and then scale `p1` by `3`.**"
      ],
      "metadata": {
        "id": "cLMf-Rzy2Cj0"
      }
    },
    {
      "cell_type": "code",
      "source": [
        "p1 = Point(1, 2)\n",
        "p2 = Point(3, 4)\n",
        "p3 = p1 + p2  # p3 represents the point obtained by adding p1 and p2\n",
        "p4 = p1 - p2  # p4 represents the point obtained by subtracting p2 from p1\n",
        "print(p3)  # Output: Point(4, 6)\n",
        "print(p4)  # Output: Point(-2, -2)\n",
        "class Point:\n",
        "    # ... implementation of __init__, __repr__, __add__, __sub__ ...\n",
        "    \n",
        "    def scale(self, factor):\n",
        "        return Point(factor * self.x, factor * self.y)\n",
        "p5 = p1.scale(3)  # p5 represents the point obtained by scaling p1 by a factor of 3\n",
        "print(p5)  # Output: Point(3, 6)\n"
      ],
      "metadata": {
        "id": "ScrsjnfxtI2D",
        "colab": {
          "base_uri": "https://localhost:8080/",
          "height": 235
        },
        "outputId": "3c923a3f-f594-4916-9817-4ed7c7f18edd"
      },
      "execution_count": 12,
      "outputs": [
        {
          "output_type": "error",
          "ename": "TypeError",
          "evalue": "ignored",
          "traceback": [
            "\u001b[0;31m---------------------------------------------------------------------------\u001b[0m",
            "\u001b[0;31mTypeError\u001b[0m                                 Traceback (most recent call last)",
            "\u001b[0;32m<ipython-input-12-852a8c77a042>\u001b[0m in \u001b[0;36m<cell line: 1>\u001b[0;34m()\u001b[0m\n\u001b[0;32m----> 1\u001b[0;31m \u001b[0mp1\u001b[0m \u001b[0;34m=\u001b[0m \u001b[0mPoint\u001b[0m\u001b[0;34m(\u001b[0m\u001b[0;36m1\u001b[0m\u001b[0;34m,\u001b[0m \u001b[0;36m2\u001b[0m\u001b[0;34m)\u001b[0m\u001b[0;34m\u001b[0m\u001b[0;34m\u001b[0m\u001b[0m\n\u001b[0m\u001b[1;32m      2\u001b[0m \u001b[0mp2\u001b[0m \u001b[0;34m=\u001b[0m \u001b[0mPoint\u001b[0m\u001b[0;34m(\u001b[0m\u001b[0;36m3\u001b[0m\u001b[0;34m,\u001b[0m \u001b[0;36m4\u001b[0m\u001b[0;34m)\u001b[0m\u001b[0;34m\u001b[0m\u001b[0;34m\u001b[0m\u001b[0m\n\u001b[1;32m      3\u001b[0m \u001b[0mp3\u001b[0m \u001b[0;34m=\u001b[0m \u001b[0mp1\u001b[0m \u001b[0;34m+\u001b[0m \u001b[0mp2\u001b[0m  \u001b[0;31m# p3 represents the point obtained by adding p1 and p2\u001b[0m\u001b[0;34m\u001b[0m\u001b[0;34m\u001b[0m\u001b[0m\n\u001b[1;32m      4\u001b[0m \u001b[0mp4\u001b[0m \u001b[0;34m=\u001b[0m \u001b[0mp1\u001b[0m \u001b[0;34m-\u001b[0m \u001b[0mp2\u001b[0m  \u001b[0;31m# p4 represents the point obtained by subtracting p2 from p1\u001b[0m\u001b[0;34m\u001b[0m\u001b[0;34m\u001b[0m\u001b[0m\n\u001b[1;32m      5\u001b[0m \u001b[0mprint\u001b[0m\u001b[0;34m(\u001b[0m\u001b[0mp3\u001b[0m\u001b[0;34m)\u001b[0m  \u001b[0;31m# Output: Point(4, 6)\u001b[0m\u001b[0;34m\u001b[0m\u001b[0;34m\u001b[0m\u001b[0m\n",
            "\u001b[0;31mTypeError\u001b[0m: Point() takes no arguments"
          ]
        }
      ]
    },
    {
      "cell_type": "markdown",
      "source": [
        "The code to create the Rectangle class is below, but it requires an additional function to see if a point is contained within the rectangle:<br> "
      ],
      "metadata": {
        "id": "WjIpm44PtVGU"
      }
    },
    {
      "cell_type": "code",
      "source": [
        "class Rectangle:\n",
        "    def __init__(self, p1, p2):\n",
        "      self.p1 = p1\n",
        "      self.p2 = p2\n",
        "    def __repr__(self):\n",
        "      fmt = 'Rectangle({!r}, {!r})'\n",
        "      return fmt.format(self.p1, self.p2)\n",
        "\n",
        "    def contains(self, p):\n",
        "       # Check if the x-coordinate of p lies between the x-coordinates of the rectangle's corners\n",
        "        x_min = min(self.p1.x, self.p2.x)\n",
        "        x_max = max(self.p1.x, self.p2.x)\n",
        "        if not (x_min <= p.x <= x_max):\n",
        "            return False\n",
        "\n",
        "        # Check if the y-coordinate of p lies between the y-coordinates of the rectangle's corners\n",
        "        y_min = min(self.p1.y, self.p2.y)\n",
        "        y_max = max(self.p1.y, self.p2.y)\n",
        "        if not (y_min <= p.y <= y_max):\n",
        "            return False\n",
        "\n",
        "        # If both checks pass, then p is contained within the rectangle\n",
        "        return True"
      ],
      "metadata": {
        "id": "gwN7zOmSttQ8"
      },
      "execution_count": 13,
      "outputs": []
    },
    {
      "cell_type": "markdown",
      "source": [
        "This code creates a rectangle `R` and then shows that the point `(4,3)` is within the boundary of the rectangle. Create a point that is outside of the rectangle. <br>**QN3) Solve it.**"
      ],
      "metadata": {
        "id": "CCfdsWAF3yjA"
      }
    },
    {
      "cell_type": "code",
      "source": [
        "\n",
        "# Create the rectangle R\n",
        "  p1 = Point(1, 1)\n",
        "  p2 = Point(5, 5)\n",
        "  R = Rectangle(p1, p2)\n",
        "\n",
        "# Print the rectangle\n",
        "print('Set up Rectangle(p1, p2):\\n')\n",
        "print(R)\n",
        "\n",
        "# Check if (4, 3) is within the rectangle R\n",
        "p3 = Point(4, 3)\n",
        "print('\\nCheck if (4, 3) is within Rectangle R:')\n",
        "print(R.contains(p3))  # Output: True\n",
        "\n",
        "# Create a point outside of the rectangle\n",
        "p4 = Point(6, 6)\n",
        "\n",
        "# Check if the point is within the rectangle\n",
        "print('\\nCheck if (6, 6) is within Rectangle R:')\n",
        "print(R.contains(p4))  # Output: False\n"
      ],
      "metadata": {
        "id": "Q4UoYg64uWrq",
        "colab": {
          "base_uri": "https://localhost:8080/",
          "height": 131
        },
        "outputId": "2d3502e9-801c-4a75-8437-1ef0fe194040"
      },
      "execution_count": 21,
      "outputs": [
        {
          "output_type": "error",
          "ename": "IndentationError",
          "evalue": "ignored",
          "traceback": [
            "\u001b[0;36m  File \u001b[0;32m\"<ipython-input-21-ebca088238d5>\"\u001b[0;36m, line \u001b[0;32m2\u001b[0m\n\u001b[0;31m    p1 = Point(1, 1)\u001b[0m\n\u001b[0m    ^\u001b[0m\n\u001b[0;31mIndentationError\u001b[0m\u001b[0;31m:\u001b[0m unexpected indent\n"
          ]
        }
      ]
    },
    {
      "cell_type": "code",
      "source": [
        "# Creating and checking with circles\n",
        "class Circle:\n",
        "    def __init__(self,c,r):\n",
        "        self.c = c\n",
        "        self.r = r\n",
        "    def __repr__(self):\n",
        "        fmt = 'Circle(centre: {!r}, radius: {!r})'\n",
        "        return fmt.format(self.c, self.r)\n",
        "    def contains(self,p1):\n",
        "        return (((Vector.subtract(self.c,p1).x**2 + Vector.subtract(self.c,p1).y**2))**(0.5)<=self.r)"
      ],
      "metadata": {
        "id": "EYlOM51VuYR4"
      },
      "execution_count": 15,
      "outputs": []
    },
    {
      "cell_type": "markdown",
      "source": [
        "**QN4) Create a circle using the variable `C` with centre at `(1,2)` and radius `3`. Then create `5` different points, `p1-p5` where `2` are within the circle and `3` are outside the circle.**"
      ],
      "metadata": {
        "id": "ZURowf8A8K1h"
      }
    },
    {
      "cell_type": "code",
      "source": [
        "# # Import the math library to use the sqrt function\n",
        "import math\n",
        "\n",
        "# Define the Point and Circle classes\n",
        "class Point:\n",
        "    def __init__(self, x, y):\n",
        "        self.x = x\n",
        "        self.y = y\n",
        "\n",
        "class Circle:\n",
        "    def __init__(self, center, radius):\n",
        "        self.center = center\n",
        "        self.radius = radius\n",
        "    \n",
        "    def __repr__(self):\n",
        "        fmt = 'Circle({}, {})'\n",
        "        return fmt.format(self.center, self.radius)\n",
        "\n",
        "    def contains(self, point):\n",
        "        return math.sqrt((point.x - self.center.x) ** 2 + (point.y - self.center.y) ** 2) <= self.radius\n",
        "\n",
        "# Create the circle C\n",
        "center = Point(1, 2)\n",
        "radius = 3\n",
        "C = Circle(center, radius)\n",
        "\n",
        "# Create 5 different points\n",
        "p1 = Point(2, 3)\n",
        "p2 = Point(-2, -1)\n",
        "p3 = Point(6, 5)\n",
        "p4 = Point(-4, 0)\n",
        "p5 = Point(0, 5)"
      ],
      "metadata": {
        "id": "RxWPbXHF8KCZ"
      },
      "execution_count": 23,
      "outputs": []
    },
    {
      "cell_type": "code",
      "source": [
        "# Check whether each point is inside or outside the circle\n",
        "# Import the math library to use the sqrt function\n",
        "import math\n",
        "\n",
        "# Define the Point and Circle classes\n",
        "class Point:\n",
        "    def __init__(self, x, y):\n",
        "        self.x = x\n",
        "        self.y = y\n",
        "\n",
        "class Circle:\n",
        "    def __init__(self, center, radius):\n",
        "        self.center = center\n",
        "        self.radius = radius\n",
        "    \n",
        "    def __repr__(self):\n",
        "        fmt = 'Circle({}, {})'\n",
        "        return fmt.format(self.center, self.radius)\n",
        "\n",
        "    def contains(self, point):\n",
        "        return math.sqrt((point.x - self.center.x) ** 2 + (point.y - self.center.y) ** 2) <= self.radius\n",
        "\n",
        "# Create the circle C\n",
        "center = Point(1, 2)\n",
        "radius = 3\n",
        "C = Circle(center, radius)\n",
        "\n",
        "# Create 5 different points\n",
        "p1 = Point(2, 3)\n",
        "p2 = Point(-2, -1)\n",
        "p3 = Point(6, 5)\n",
        "p4 = Point(-4, 0)\n",
        "p5 = Point(0, 5)\n",
        "# Check if each point is within the circle\n",
        "print('Is p1 within C?', C.contains(p1))  # Output: True\n",
        "print('Is p2 within C?', C.contains(p2))  # Output: False\n",
        "print('Is p3 within C?', C.contains(p3))  # Output: False\n",
        "print('Is p4 within C?', C.contains(p4))  # Output: False\n",
        "print('Is p5 within C?', C.contains(p5))  # Output: True\n"
      ],
      "metadata": {
        "id": "IGMHq3fIukj3",
        "colab": {
          "base_uri": "https://localhost:8080/"
        },
        "outputId": "4ad17414-5632-4acb-e60b-4aeee1ad7d55"
      },
      "execution_count": 22,
      "outputs": [
        {
          "output_type": "stream",
          "name": "stdout",
          "text": [
            "Is p1 within C? True\n",
            "Is p2 within C? False\n",
            "Is p3 within C? False\n",
            "Is p4 within C? False\n",
            "Is p5 within C? False\n"
          ]
        }
      ]
    },
    {
      "cell_type": "markdown",
      "source": [
        "Next let's look at a general Polygon and contains function. Don't worry about how the code works, it relies on Numpy imported as np and uses maths to solve the problem, but see that the points of the edges from the Polygon are listed in the array p with a new point listed in r tested against it."
      ],
      "metadata": {
        "id": "0mlqKUw6-ecx"
      }
    },
    {
      "cell_type": "code",
      "source": [
        "import numpy as np\n",
        "\n",
        "def contains(P,R):\n",
        "\n",
        "    intercepts = 0\n",
        "\n",
        "    r_origin = R\n",
        "    r_end = np.array([np.max(P[:,0])+30,np.max(P[:,1])+30])\n",
        "    r_direction = r_end - r_origin\n",
        "    \n",
        "\n",
        "    for i in range(len(P)):\n",
        "        u_origin = P[i,:]\n",
        "        u_direction = P[(i+1)%len(P),:] - u_origin\n",
        "        Z = np.array([u_direction,-r_direction])\n",
        "        intercept_len = np.linalg.pinv(Z.T).dot(r_origin - u_origin)\n",
        "        if (((intercept_len[0]>0) & (intercept_len[0]<1)) and ((intercept_len[1]>0) & (intercept_len[1]<1))) == 1:\n",
        "            intercepts += 1\n",
        "\n",
        "    if intercepts%2 == 1:\n",
        "        print('r is inside polygon p')\n",
        "    else:\n",
        "        print('r is outside polygon p')\n",
        "\n",
        "p = np.array(([80,150],[100,40],[140,170],[250,60],[320,150],[250,130],[110,250]))\n",
        "r = np.array([300,200])\n",
        "contains(p,r)"
      ],
      "metadata": {
        "colab": {
          "base_uri": "https://localhost:8080/"
        },
        "id": "Ro0zz239u3Mv",
        "outputId": "18ce3a7e-3da8-4499-f542-c88b517b5a8c"
      },
      "execution_count": 24,
      "outputs": [
        {
          "output_type": "stream",
          "name": "stdout",
          "text": [
            "r is outside polygon p\n"
          ]
        }
      ]
    },
    {
      "cell_type": "code",
      "source": [
        "import matplotlib.pyplot as plt\n",
        "\n",
        "plt.plot([p[i % 7][0] for i in range(8)], [p[i % 7][1] for i in range(8)], 'xb-');\n",
        "plt.plot(r[0],r[1],'r*')\n",
        "plt.show()"
      ],
      "metadata": {
        "id": "CsLZINTAvblZ",
        "colab": {
          "base_uri": "https://localhost:8080/",
          "height": 265
        },
        "outputId": "621f7d3e-34aa-42bc-a34d-392db87ff5ad"
      },
      "execution_count": null,
      "outputs": [
        {
          "output_type": "display_data",
          "data": {
            "text/plain": [
              "<Figure size 432x288 with 1 Axes>"
            ],
            "image/png": "[encoded data removed]"
          },
          "metadata": {
            "needs_background": "light"
          }
        }
      ]
    },
    {
      "cell_type": "markdown",
      "source": [
        "#**Copy Functions**"
      ],
      "metadata": {
        "id": "6yhQrT6f--ya"
      }
    },
    {
      "cell_type": "markdown",
      "source": [
        "First let's look at Shallow copy peculariaties.<br> \n",
        "`[:]` in list notation denotes a shallow copy, but only to every exising memory entry. <br>If you add another entry this won't be included in both variables:"
      ],
      "metadata": {
        "id": "y-W-6iX4_HTY"
      }
    },
    {
      "cell_type": "code",
      "source": [
        "a = [1, 2, 3]\n",
        "b = a[:]\n",
        "a.append(4)\n",
        "print(a)  # prints [1, 2, 3, 4]\n",
        "print(b)  # prints [1, 2, 3]"
      ],
      "metadata": {
        "colab": {
          "base_uri": "https://localhost:8080/"
        },
        "id": "f8QPnqVMA4ez",
        "outputId": "43000d3f-452d-4656-d9e5-7047f3fbacc6"
      },
      "execution_count": 25,
      "outputs": [
        {
          "output_type": "stream",
          "name": "stdout",
          "text": [
            "[1, 2, 3, 4]\n",
            "[1, 2, 3]\n"
          ]
        }
      ]
    },
    {
      "cell_type": "code",
      "source": [
        "a = [1, 2, 3]\n",
        "b = a[:]  # make a shallow copy of a\n",
        "\n",
        "a.append(4)  # add a new element to a\n",
        "\n",
        "print(a)  # prints [1, 2, 3, 4]\n",
        "print(b)  # prints [1, 2, 3]"
      ],
      "metadata": {
        "colab": {
          "base_uri": "https://localhost:8080/"
        },
        "id": "d8-bXjWADWqM",
        "outputId": "1fd6a534-d0e4-482c-8213-cfdc7ee9f93a"
      },
      "execution_count": 26,
      "outputs": [
        {
          "output_type": "stream",
          "name": "stdout",
          "text": [
            "[1, 2, 3, 4]\n",
            "[1, 2, 3]\n"
          ]
        }
      ]
    },
    {
      "cell_type": "code",
      "source": [
        "a1 = [[1, 2], [2, 4]]\n",
        "b1 = a1[:]\n",
        "b1[0].append(3)\n",
        "print(b1)\n",
        "print(a1)"
      ],
      "metadata": {
        "colab": {
          "base_uri": "https://localhost:8080/"
        },
        "id": "fbV1B11nvVNx",
        "outputId": "86d25454-c168-4036-d63a-045ae7eaad0d"
      },
      "execution_count": 27,
      "outputs": [
        {
          "output_type": "stream",
          "name": "stdout",
          "text": [
            "[[1, 2, 3], [2, 4]]\n",
            "[[1, 2, 3], [2, 4]]\n"
          ]
        }
      ]
    },
    {
      "cell_type": "code",
      "source": [
        "a = [[1, 2], [2, 4]]\n",
        "b = a[:]\n",
        "b.append([3,6])\n",
        "print(b)\n",
        "print(a)"
      ],
      "metadata": {
        "colab": {
          "base_uri": "https://localhost:8080/"
        },
        "id": "5mJHika4vwiz",
        "outputId": "ee53eb54-cc18-4f46-bb43-80e073eb43db"
      },
      "execution_count": 28,
      "outputs": [
        {
          "output_type": "stream",
          "name": "stdout",
          "text": [
            "[[1, 2], [2, 4], [3, 6]]\n",
            "[[1, 2], [2, 4]]\n"
          ]
        }
      ]
    },
    {
      "cell_type": "code",
      "source": [
        "#Now let's use a deepcopy to avoid this problem:\n",
        "import copy\n",
        "a = [[1, 2], [2, 4]]\n",
        "b = copy.deepcopy(a)\n",
        "b[0].append(3)\n",
        "print(b)\n",
        "print(a)"
      ],
      "metadata": {
        "colab": {
          "base_uri": "https://localhost:8080/"
        },
        "id": "cbWN5w1lAlSJ",
        "outputId": "c77305b8-d33c-4611-e8b8-0c912716a106"
      },
      "execution_count": 29,
      "outputs": [
        {
          "output_type": "stream",
          "name": "stdout",
          "text": [
            "[[1, 2, 3], [2, 4]]\n",
            "[[1, 2], [2, 4]]\n"
          ]
        }
      ]
    },
    {
      "cell_type": "markdown",
      "source": [
        "**QN5) Show some examples with both types of copy methods**"
      ],
      "metadata": {
        "id": "idFaKA8LGnG_"
      }
    },
    {
      "cell_type": "code",
      "source": [
        "# Create a list and a shallow copy of the list\n",
        "original_list = [1, 2, 3]\n",
        "shallow_copy = original_list.copy()\n",
        "\n",
        "# Modify the original list by adding a new element\n",
        "original_list.append(4)\n",
        "\n",
        "# Print the original list and the shallow copy\n",
        "print('Original list:', original_list)   # Output: [1, 2, 3, 4]\n",
        "print('Shallow copy:', shallow_copy)      # Output: [1, 2, 3]\n"
      ],
      "metadata": {
        "id": "b8PxtDHmGv5O",
        "colab": {
          "base_uri": "https://localhost:8080/"
        },
        "outputId": "3883ac97-deb2-4218-e451-0a3f34fec68c"
      },
      "execution_count": 30,
      "outputs": [
        {
          "output_type": "stream",
          "name": "stdout",
          "text": [
            "Original list: [1, 2, 3, 4]\n",
            "Shallow copy: [1, 2, 3]\n"
          ]
        }
      ]
    },
    {
      "cell_type": "markdown",
      "source": [
        "# Linked Lists"
      ],
      "metadata": {
        "id": "MgIV1gLXG-IE"
      }
    },
    {
      "cell_type": "code",
      "source": [
        "class Node:\n",
        "    def __init__(self):\n",
        "        self.next = None\n",
        "        self.prev = None\n",
        "        self.info = 0"
      ],
      "metadata": {
        "id": "4lPgvUPFHAwk"
      },
      "execution_count": 31,
      "outputs": []
    },
    {
      "cell_type": "markdown",
      "source": [
        "**QN6) Complete the following program.**"
      ],
      "metadata": {
        "id": "c5rQu3cmG2xf"
      }
    },
    {
      "cell_type": "markdown",
      "source": [
        "Node class with three instance variables: `next`, `prev`, and `info`. The `__init__` method sets the initial values of these instance variables to `None`, `None`, and `0`, respectively."
      ],
      "metadata": {
        "id": "ibrt_1L5Hc9g"
      }
    },
    {
      "cell_type": "code",
      "source": [
        "class SLList:\n",
        "  def __init__(self):\n",
        "    self.first = None\n",
        "    self.last = None\n",
        "  \n",
        "  def insert_beg(self):\n",
        "    element = int(input(\"Enter element to insert: \"))\n",
        "    node = Node()\n",
        "    node.info = element\n",
        "    if self.first == None: \n",
        "      self.first = self.last = node\n",
        "      node.next = None\n",
        "    else:\n",
        "      node.next = self.first\n",
        "      self.first = node\n",
        "      \n",
        "        \n",
        "  def insert_end(self):\n",
        "    element = int(input(\"Enter element to insert: \"))\n",
        "    node = Node()\n",
        "    node.info = element \n",
        "    if self.first == None: \n",
        "      self.first = self.last = node \n",
        "      node.next = None\n",
        "    else: \n",
        "       self.last.next = node\n",
        "       self.last = node\n",
        "       node.next = None\n",
        "       \n",
        "        \n",
        "  def insert_spec_pos(self):\n",
        "    element = int(input(\"Enter element to insert: \"))\n",
        "    node = Node()\n",
        "    node.info = element \n",
        "    pos = int(input(\"Enter position to insert: \"))\n",
        "    if self.first == None: \n",
        "      self.first = self.last = node \n",
        "      node.next = None\n",
        "    else: \n",
        "      temp = self.first\n",
        "      for i in range(1, pos-1):\n",
        "       temp = temp.next\n",
        "      node.next = temp.next\n",
        "      temp.next = node\n",
        "\n",
        "       \n",
        "        \n",
        "  def delete_first(self):\n",
        "    if self.first == None: \n",
        "      print(\"List is empty\") \n",
        "    elif self.first == self.last: \n",
        "      self.first = None\n",
        "      self.last = None \n",
        "    else: \n",
        "       self.first = self.first.next\n",
        "\n",
        "  def delete_end(self):\n",
        "    if self.first == None: \n",
        "      print(\"List is empty\") \n",
        "    elif self.first == self.last: \n",
        "      self.first = None\n",
        "      self.last = None \n",
        "    else: \n",
        "       temp = self.first\n",
        "    while temp.next.next != None:\n",
        "       temp = temp.next\n",
        "       temp.next = None\n",
        "        \n",
        "  def delete_spec_pos(self):\n",
        "    if self.first == None: \n",
        "      print(\"List is empty\") \n",
        "    elif self.first == self.last: \n",
        "      self.first = None\n",
        "      self.last = None \n",
        "    else: \n",
        "      temp = self.first\n",
        "      for i in range(1, pos-1):\n",
        "        temp = temp.next\n",
        "        temp.next = temp.next.next\n",
        "        \n",
        "  def search(self):\n",
        "    element = int(input(\"Enter element to search: \"))\n",
        "    temp = self.first \n",
        "    pos = 1\n",
        "    while temp != None: \n",
        "      if temp.info == element:\n",
        "        print(\"Element found at position:\", pos) \n",
        "        break\n",
        "      temp = temp.next \n",
        "      pos += 1\n",
        "    if temp == None: \n",
        "      print(\"Element not found in the list\") \n",
        "        \n",
        "  def display(self):\n",
        "    if self.first == None: \n",
        "      print(\"List is empty\") \n",
        "    else: \n",
        "      temp = self.first \n",
        "      while temp != None: \n",
        "        print(temp.info, \"  \", end='')\n",
        "        temp = temp.next\n",
        "      print(\"\") \n",
        "lst = SLList()\n",
        "\n",
        "while True:\n",
        "  print(\"1. Insert at beginning\")\n",
        "  print(\"2. Insert at end\")\n",
        "  print(\"3. Insert at specific position\")\n",
        "  print(\"4. Delete first node\")\n",
        "  print(\"5. Delete last node\")\n",
        "  print(\"6. Delete node at specific position\")\n",
        "  print(\"7. Search element\")\n",
        "  print(\"8. Display list\")\n",
        "  print(\"9. Exit\")\n",
        "  choice = int(input(\"Enter your choice: \"))\n",
        "  if choice == 9:\n",
        "    break\n",
        "  elif choice == 1:\n",
        "    lst.insert_beg()\n",
        "  elif choice == 2:\n",
        "    lst.insert_end()\n",
        "  elif choice == 3:\n",
        "    lst.insert_spec_pos()\n",
        "  elif choice == 4:\n",
        "    lst.delete_first()\n",
        "  elif choice == 5:\n",
        "    lst.delete_end()\n",
        "  elif choice == 6:\n",
        "    lst.delete_spec_pos()\n",
        "  elif choice == 7:\n",
        "    lst.search()\n",
        "  elif choice == 8:\n",
        "    lst.display()\n",
        "  else:\n",
        "    print(\"Wrong choice\")\n",
        "    print(\"Bye!\")"
      ],
      "metadata": {
        "colab": {
          "base_uri": "https://localhost:8080/"
        },
        "id": "WUoZJxQfPnai",
        "outputId": "1153a91e-270c-4fd9-dfa0-9e604b130d1c"
      },
      "execution_count": null,
      "outputs": [
        {
          "output_type": "stream",
          "name": "stdout",
          "text": [
            "1. Insert at beginning\n",
            "2. Insert at end\n",
            "3. Insert at specific position\n",
            "4. Delete first node\n",
            "5. Delete last node\n",
            "6. Delete node at specific position\n",
            "7. Search element\n",
            "8. Display list\n",
            "9. Exit\n",
            "Enter your choice: 4\n",
            "List is empty\n",
            "1. Insert at beginning\n",
            "2. Insert at end\n",
            "3. Insert at specific position\n",
            "4. Delete first node\n",
            "5. Delete last node\n",
            "6. Delete node at specific position\n",
            "7. Search element\n",
            "8. Display list\n",
            "9. Exit\n"
          ]
        }
      ]
    },
    {
      "cell_type": "markdown",
      "source": [
        "**QN7) Please verify the program below:** Which one is best? Earlier or this one? Justify"
      ],
      "metadata": {
        "id": "ZBpv-xJlHK49"
      }
    },
    {
      "cell_type": "code",
      "source": [
        "class SLList:\n",
        "    def __init__(self):\n",
        "        self.first = None\n",
        "        self.last = None\n",
        "        self.length = 0\n",
        "\n",
        "    def insert(self, element, pos=None):\n",
        "        node = Node()\n",
        "        node.info = element \n",
        "        if self.first is None: \n",
        "            self.first = self.last = node \n",
        "            node.next = None\n",
        "        elif pos == 1:\n",
        "            node.next = self.first\n",
        "            self.first = node\n",
        "        elif pos is None or pos == self.length + 1:\n",
        "            self.last.next = node \n",
        "            self.last = node \n",
        "            node.next = None \n",
        "        elif 1 < pos <= self.length:\n",
        "            temp = self.first\n",
        "            for i in range(1, pos - 1):\n",
        "                temp = temp.next\n",
        "            node.next = temp.next\n",
        "            temp.next = node\n",
        "        self.length += 1\n",
        "\n",
        "    def delete(self, pos=None):\n",
        "      if self.first is None: \n",
        "        print(\"List is empty\") \n",
        "      elif pos == 1: \n",
        "        self.first = self.first.next\n",
        "        if self.first is None:\n",
        "            self.last = None\n",
        "        self.length -= 1\n",
        "      elif pos == self.length:\n",
        "        if self.first == self.last:\n",
        "            self.first = self.last = None\n",
        "        else:\n",
        "            temp = self.first \n",
        "            while temp.next != self.last: \n",
        "                temp = temp.next \n",
        "            temp.next = None\n",
        "            self.last = temp\n",
        "        self.length -= 1\n",
        "      elif 0 < pos < self.length:\n",
        "        temp = self.first \n",
        "        for i in range(1, pos - 1): \n",
        "            temp = temp.next    \n",
        "        temp.next = temp.next.next \n",
        "        self.length -= 1\n",
        "        if pos == self.length:\n",
        "            self.last = temp\n",
        "      else:\n",
        "        print(\"Invalid position\")\n",
        "\n",
        "\n",
        "    def search(self, element):\n",
        "        temp = self.first \n",
        "        pos = 1\n",
        "        while temp is not None: \n",
        "            if temp.info == element:\n",
        "                print(\"Element found at position:\", pos) \n",
        "                break\n",
        "            temp = temp.next \n",
        "            pos += 1\n",
        "        if temp is None: \n",
        "            print(\"Element not found in the list\") \n",
        "\n",
        "    def display(self):\n",
        "        if self.first is None: \n",
        "            print(\"List is empty\") \n",
        "        else: \n",
        "            temp = self.first \n",
        "            while temp is not None: \n",
        "                print(temp.info, \"  \", end='')\n",
        "                temp = temp.next\n",
        "            print(\"\") \n",
        "\n",
        "lst = SLList()\n",
        "\n",
        "while True:\n",
        "    print(\"1. Insert at beginning\")\n",
        "    print(\"2. Insert at end\")\n",
        "    print(\"3. Insert at specific position\")\n",
        "    print(\"4. Delete first node\")\n",
        "    print(\"5. Delete last node\")\n",
        "    print(\"6. Delete node at specific position\")\n",
        "    print(\"7. Search element\")\n",
        "    print(\"8. Display list\")\n",
        "    print(\"9. Exit\")\n",
        "    choice = int(input(\"Enter your choice: \"))\n",
        "    if choice == 9:\n",
        "      break\n",
        "    elif choice == 1:\n",
        "      element = int(input(\"Enter element to be inserted: \"))\n",
        "      lst.insert(element, 1)\n",
        "    elif choice == 2:\n",
        "      element = int(input(\"Enter element to be inserted: \"))\n",
        "      lst.insert(element)\n",
        "    elif choice == 3:\n",
        "      element = int(input(\"Enter element to be inserted: \"))\n",
        "      pos = int(input(\"Enter position at which element is to be inserted: \"))\n",
        "      lst.insert(element,pos)\n",
        "    elif choice == 4:\n",
        "      lst.delete(1)\n",
        "    elif choice == 5:\n",
        "      lst.delete(lst.length-1)\n",
        "    elif choice == 6:\n",
        "      pos = int(input(\"Enter position of element to be deleted: \"))\n",
        "      lst.delete(pos)\n",
        "    elif choice == 7:\n",
        "      element = int(input(\"Enter element to search: \"))\n",
        "      lst.search(element)\n",
        "    elif choice == 8:\n",
        "      lst.display()\n",
        "    else:\n",
        "      print(\"Wrong choice\")\n",
        "      print(\"Bye!\")\n",
        "#Both programs are designed to allow the user to interact with the \n",
        "#linked list by choosing from a menu of operations to perform. They \n",
        "#both provide methods for inserting and deleting nodes and searching\n",
        "#for an element in the list. However, the second program includes a \n",
        "#length attribute, making it easier to keep track of the number of\n",
        "#nodes in the list."
      ],
      "metadata": {
        "id": "ARuywn9BVIdQ"
      },
      "execution_count": null,
      "outputs": []
    },
    {
      "cell_type": "markdown",
      "source": [
        "**QN8) Complete the following program.**"
      ],
      "metadata": {
        "id": "1SmqJ67JHb6o"
      }
    },
    {
      "cell_type": "code",
      "source": [
        "class Node:\n",
        "  def __init__(self):\n",
        "      self.info = None\n",
        "      self.next = None\n",
        "      self.prev = None\n",
        "\n",
        "\n",
        "class DoublyLinkListDemo:\n",
        "  def __init__(self): \n",
        "      self.first = None\n",
        "      self.last = None\n",
        "\n",
        "  def insertBeg(self): \n",
        "      element = int(input(\"Enter Data Item to Insert: \")) \n",
        "      node = Node()\n",
        "      node.info = element  \n",
        "      if self.first is None: \n",
        "          self.first = node \n",
        "          self.last = node \n",
        "          node.next = None\n",
        "          node.prev = None\n",
        "      else: \n",
        "          node.next = self.first\n",
        "          self.first.prev = node\n",
        "          node.prev = None\n",
        "          self.first = node\n",
        "          \n",
        "  def insertEnd(self): \n",
        "      element = int(input(\"Enter Data Item to Insert: \")) \n",
        "      node = Node()\n",
        "      node.info = element  \n",
        "      if self.first is None: \n",
        "          self.first = node \n",
        "          self.last = node \n",
        "          node.next = None\n",
        "          node.prev = None\n",
        "      else: \n",
        "          node.next = None\n",
        "          node.prev = self.last\n",
        "          self.last.next = node\n",
        "          self.last = node\n",
        "          \n",
        "          \n",
        "  def insertAtSpecificPosition(self): \n",
        "      element = int(input(\"Enter Data Item to Insert: \")) \n",
        "      node = Node()\n",
        "      node.info = element  \n",
        "      pos = int(input(\"Which Position You Want to Insert? \")) \n",
        "      if pos == 1:\n",
        "          node.next = self.first\n",
        "          self.first.prev = node\n",
        "          node.prev = None\n",
        "          self.first = node\n",
        "      else:\n",
        "          temp = self.first\n",
        "          i = 1\n",
        "          while i < pos-1 and temp is not None:\n",
        "              temp = temp.next\n",
        "              i += 1\n",
        "          if temp is None:\n",
        "              print(\"Invalid position\")\n",
        "          else:\n",
        "              node.next = temp.next\n",
        "              node.prev = temp\n",
        "              if temp.next is not None:\n",
        "                  temp.next.prev = node\n",
        "              temp.next = node\n",
        "          \n",
        "  def deleteFirst(self): \n",
        "      if self.first is None: \n",
        "          print(\"Linked List is Empty\") \n",
        "      elif self.first == self.last: \n",
        "          self.first = None\n",
        "          self.last = None\n",
        "      else: \n",
        "          self.first = self.first.next\n",
        "          self.first.prev = None\n",
        "          \n",
        "  def deleteEnd(self): \n",
        "      if self.first is None: \n",
        "          print(\"Linked List is Empty\") \n",
        "      elif self.first == self.last: \n",
        "          self.first = None\n",
        "          self.last = None \n",
        "          print(\"Last Node is Removed \") \n",
        "      else: \n",
        "          self.last = self.last.prev\n",
        "          self.last.next = None\n",
        "          print(\"Last Node is Removed \") \n",
        "          \n",
        "          \n",
        "  def deleteAtSpecificPosition(self): \n",
        "      if self.first is None: \n",
        "          print(\"Linked List is Empty\") \n",
        "      elif self.first == self.last: \n",
        "          self.first = None\n",
        "          self.last = None \n",
        "          print(\"Node is Removed \") \n",
        "      else: \n",
        "          pos = int(input(\"Which Position You Want to Delete? \")) \n",
        "          if pos == 1:\n",
        "              self.first = self.first.next\n",
        "              self.first.prev = None\n",
        "          else:\n",
        "              temp = self.first\n",
        "              i = 1\n",
        "              while i < pos and temp is not None:\n",
        "                  temp = temp.next\n",
        "                  i += 1\n",
        "              if temp is None:\n",
        "                  print(\"Invalid position\")\n",
        "              else:\n",
        "                  temp.prev.next = temp.next\n",
        "                  if temp.next is not None:\n",
        "                      temp.next.prev = temp.prev\n",
        "                  else:\n",
        "                      self.last = temp.prev\n",
        "          \n",
        "  def searchItem(self):\n"
      ],
      "metadata": {
        "id": "hnJntM0xa9lA"
      },
      "execution_count": null,
      "outputs": []
    },
    {
      "cell_type": "markdown",
      "source": [
        "H/W **QN9) Can you optimize the above code?**"
      ],
      "metadata": {
        "id": "dMzn44wRH5t0"
      }
    },
    {
      "cell_type": "code",
      "source": [
        "class Node:\n",
        "    def __init__(self, info=None):\n",
        "        self.info = info\n",
        "        self.next = None\n",
        "        self.prev = None\n",
        "\n",
        "\n",
        "class DoublyLinkedList:\n",
        "    def __init__(self):\n",
        "        self.first = None\n",
        "        self.last = None\n",
        "        self.length = 0\n",
        "\n",
        "    def insert(self, element, pos=1):\n",
        "        if pos < 1 or pos > self.length + 1:\n",
        "            print(\"Invalid position\")\n",
        "            return\n",
        "\n",
        "        node = Node(element)\n",
        "        if self.first is None:\n",
        "            self.first = node\n",
        "            self.last = node\n",
        "        elif pos == 1:\n",
        "            node.next = self.first\n",
        "            self.first.prev = node\n",
        "            self.first = node\n",
        "        elif pos == self.length + 1:\n",
        "            node.prev = self.last\n",
        "            self.last.next = node\n",
        "            self.last = node\n",
        "        else:\n",
        "            temp = self.first\n",
        "            i = 1\n",
        "            while i < pos - 1:\n",
        "                temp = temp.next\n",
        "                i += 1\n",
        "            node.next = temp.next\n",
        "            node.prev = temp\n",
        "            temp.next.prev = node\n",
        "            temp.next = node\n",
        "\n",
        "        self.length += 1\n",
        "\n",
        "    def delete(self, pos=1):\n",
        "        if pos < 1 or pos > self.length:\n",
        "            print(\"Invalid position\")\n",
        "            return\n",
        "\n",
        "        if self.first is None:\n",
        "            print(\"Linked List is Empty\")\n",
        "            return\n",
        "\n",
        "        if pos == 1:\n",
        "            self.first = self.first.next\n",
        "            if self.first is not None:\n",
        "                self.first.prev = None\n",
        "            else:\n",
        "                self.last = None\n",
        "        elif pos == self.length:\n",
        "            self.last = self.last.prev\n",
        "            self.last.next = None\n",
        "        else:\n",
        "            temp = self.first\n",
        "            i = 1\n",
        "            while i < pos:\n",
        "                temp = temp.next\n",
        "                i += 1\n",
        "            temp.prev.next = temp.next\n",
        "            temp.next.prev = temp.prev\n",
        "\n",
        "        self.length -= 1\n",
        "\n",
        "    def searchItem(self, item):\n",
        "        temp = self.first\n",
        "        while temp is not None:\n",
        "            if temp.info == item:\n",
        "                print(\"Item found\")\n",
        "                return\n",
        "            temp = temp.next\n",
        "        print(\"Item not found\")\n",
        "#whatidid?\n",
        "#Combine the insertBeg and insertEnd methods into a single insert method that takes an additional argument to specify the position of insertion.\n",
        "\n",
        "#Combine the deleteFirst and deleteEnd methods into a single delete method that takes an additional argument to specify the position of deletion.\n",
        "\n",
        "#Rename the DoublyLinkListDemo class to DoublyLinkedList to follow Python naming conventions."
      ],
      "metadata": {
        "id": "nlW_tUjwlFPk"
      },
      "execution_count": null,
      "outputs": []
    },
    {
      "cell_type": "markdown",
      "source": [
        "# THE END"
      ],
      "metadata": {
        "id": "ilII0cvqIH98"
      }
    }
  ]
}