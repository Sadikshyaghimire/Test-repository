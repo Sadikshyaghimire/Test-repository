{
  "nbformat": 4,
  "nbformat_minor": 0,
  "metadata": {
    "colab": {
      "provenance": [],
      "include_colab_link": true
    },
    "kernelspec": {
      "name": "python3",
      "display_name": "Python 3"
    },
    "language_info": {
      "name": "python"
    }
  },
  "cells": [
    {
      "cell_type": "markdown",
      "metadata": {
        "id": "view-in-github",
        "colab_type": "text"
      },
      "source": [
        "<a href=\"https://colab.research.google.com/github/Sadikshyaghimire/Test-repository/blob/master/DSA_week2.ipynb\" target=\"_parent\"><img src=\"https://colab.research.google.com/assets/colab-badge.svg\" alt=\"Open In Colab\"/></a>"
      ]
    },
    {
      "cell_type": "markdown",
      "source": [
        "# Your Name: Sadikshya Ghimire\n",
        "# Student ID: 23140745"
      ],
      "metadata": {
        "id": "awXPCdL88i24"
      }
    },
    {
      "cell_type": "markdown",
      "source": [
        "# Exercise: Lists\n",
        "\n",
        "Create a list in Python, for example:<br>\n",
        "\n",
        "`x = [‘a’, 25, ‘dog’, 8.43]`\n",
        "\n",
        "Then find the correct Python code for operations supported by lists. For example:\n",
        "\n",
        "`[] or list()` creates an empty list,<br>\n",
        "`my_list[i]` gets the value at index i,<br>\n",
        "`my_list[i] = y` sets the value at index i to be y.\n"
      ],
      "metadata": {
        "id": "NMEgNNW9pq6T"
      }
    },
    {
      "cell_type": "markdown",
      "source": [
        "\n",
        "\n",
        "**1.   Using Using square brackets `[]`:**<br>\n",
        "You can create a list by enclosing a comma-separated sequence of values in square brackets.\n",
        "\n"
      ],
      "metadata": {
        "id": "k5gDddGPrsYd"
      }
    },
    {
      "cell_type": "code",
      "source": [
        "x = ['a', 25, 'dog', 8.43]\n",
        "x"
      ],
      "metadata": {
        "colab": {
          "base_uri": "https://localhost:8080/"
        },
        "id": "_VcVdatSqZhj",
        "outputId": "530f6e0e-c0f3-4c5e-9e15-ff584e9066e7"
      },
      "execution_count": null,
      "outputs": [
        {
          "output_type": "execute_result",
          "data": {
            "text/plain": [
              "['a', 25, 'dog', 8.43]"
            ]
          },
          "metadata": {},
          "execution_count": 5
        }
      ]
    },
    {
      "cell_type": "code",
      "source": [
        "print(x)"
      ],
      "metadata": {
        "colab": {
          "base_uri": "https://localhost:8080/"
        },
        "id": "eEA9vvESrWSR",
        "outputId": "f5f68627-20e7-48fc-f44d-ae5bc705ea56"
      },
      "execution_count": null,
      "outputs": [
        {
          "output_type": "stream",
          "name": "stdout",
          "text": [
            "['a', 25, 'dog', 8.43]\n"
          ]
        }
      ]
    },
    {
      "cell_type": "code",
      "source": [
        "type(x)"
      ],
      "metadata": {
        "colab": {
          "base_uri": "https://localhost:8080/"
        },
        "id": "RGl7Yg0irZCi",
        "outputId": "7de1acca-ad1b-4f2c-edd6-82cb6665abce"
      },
      "execution_count": null,
      "outputs": [
        {
          "output_type": "execute_result",
          "data": {
            "text/plain": [
              "list"
            ]
          },
          "metadata": {},
          "execution_count": 7
        }
      ]
    },
    {
      "cell_type": "markdown",
      "source": [
        "**2.   Using the `list()` constructor:**<br>\n",
        "You can create a list by calling the `list() `constructor with an iterable as its argument."
      ],
      "metadata": {
        "id": "l9C43FjKsC8z"
      }
    },
    {
      "cell_type": "code",
      "source": [
        "x = list(('a', 25, 'dog', 8.43))\n",
        "print(x)\n",
        "type(x)"
      ],
      "metadata": {
        "colab": {
          "base_uri": "https://localhost:8080/"
        },
        "id": "1qN57vS5r-x0",
        "outputId": "4a0e7faa-2f9c-4ece-a819-3f5a1eec7ea6"
      },
      "execution_count": null,
      "outputs": [
        {
          "output_type": "stream",
          "name": "stdout",
          "text": [
            "['a', 25, 'dog', 8.43]\n"
          ]
        },
        {
          "output_type": "execute_result",
          "data": {
            "text/plain": [
              "list"
            ]
          },
          "metadata": {},
          "execution_count": 10
        }
      ]
    },
    {
      "cell_type": "markdown",
      "source": [
        "**3.   List comprehension:**<br>\n",
        "You can create a list using a list comprehension, which is a concise way to create lists based on existing iterables.\n",
        "\n"
      ],
      "metadata": {
        "id": "gx3X5w_jsoEY"
      }
    },
    {
      "cell_type": "code",
      "source": [
        "my_list = [y for y in range(1, 6)]\n",
        "print(my_list)"
      ],
      "metadata": {
        "colab": {
          "base_uri": "https://localhost:8080/"
        },
        "id": "KbuzWC0Urb86",
        "outputId": "bd32223d-5f68-4d2e-81ed-44aedf9458e3"
      },
      "execution_count": null,
      "outputs": [
        {
          "output_type": "stream",
          "name": "stdout",
          "text": [
            "[1, 2, 3, 4, 5]\n"
          ]
        }
      ]
    },
    {
      "cell_type": "markdown",
      "source": [
        "**4.   Using the `*` operator:**<br>\n",
        "You can create a list with a repeated value using the `*` operator."
      ],
      "metadata": {
        "id": "Hq5mLHv0s7ah"
      }
    },
    {
      "cell_type": "code",
      "source": [
        "my_list = [13] * 5\n",
        "print(my_list)"
      ],
      "metadata": {
        "colab": {
          "base_uri": "https://localhost:8080/"
        },
        "id": "ScrsjnfxtI2D",
        "outputId": "f45a4c7b-71bd-47f3-ff9f-40e54665ff43"
      },
      "execution_count": null,
      "outputs": [
        {
          "output_type": "stream",
          "name": "stdout",
          "text": [
            "[13, 13, 13, 13, 13]\n"
          ]
        }
      ]
    },
    {
      "cell_type": "markdown",
      "source": [
        "**5. Appending values using a loop:**<br>\n",
        "You can create a `list` by `appending` values to an empty list using a `loop`."
      ],
      "metadata": {
        "id": "WjIpm44PtVGU"
      }
    },
    {
      "cell_type": "code",
      "source": [
        "my_list = []\n",
        "for i in range(1, 6):\n",
        "    my_list.append(i)\n",
        "print(my_list)"
      ],
      "metadata": {
        "colab": {
          "base_uri": "https://localhost:8080/"
        },
        "id": "gwN7zOmSttQ8",
        "outputId": "c173efc1-8593-4168-9677-53d4e4cfba07"
      },
      "execution_count": null,
      "outputs": [
        {
          "output_type": "stream",
          "name": "stdout",
          "text": [
            "[1, 2, 3, 4, 5]\n"
          ]
        }
      ]
    },
    {
      "cell_type": "code",
      "source": [
        "my_list = []\n",
        "my_list.append(1)\n",
        "my_list.append(2)\n",
        "my_list.append(3)\n",
        "my_list.append(4)\n",
        "my_list.append(5)\n",
        "print(my_list)"
      ],
      "metadata": {
        "colab": {
          "base_uri": "https://localhost:8080/"
        },
        "id": "Q4UoYg64uWrq",
        "outputId": "47144752-e1ca-4498-d1c3-77e5e9834447"
      },
      "execution_count": null,
      "outputs": [
        {
          "output_type": "stream",
          "name": "stdout",
          "text": [
            "[1, 2, 3, 4, 5]\n"
          ]
        }
      ]
    },
    {
      "cell_type": "code",
      "source": [
        "my_list = [1, 2, 3]\n",
        "my_list.extend([4, 5])\n",
        "print(my_list)"
      ],
      "metadata": {
        "colab": {
          "base_uri": "https://localhost:8080/"
        },
        "id": "EYlOM51VuYR4",
        "outputId": "1ad5733a-c53c-4a40-b867-b6f83c5768ef"
      },
      "execution_count": null,
      "outputs": [
        {
          "output_type": "stream",
          "name": "stdout",
          "text": [
            "[1, 2, 3, 4, 5]\n"
          ]
        }
      ]
    },
    {
      "cell_type": "code",
      "source": [
        "my_list = [1, 2, 3, 5]\n",
        "my_list.insert(0, 50)\n",
        "print(my_list) "
      ],
      "metadata": {
        "colab": {
          "base_uri": "https://localhost:8080/"
        },
        "id": "IGMHq3fIukj3",
        "outputId": "4c4ad50b-0fa8-464d-e304-ba64dcb9b690"
      },
      "execution_count": null,
      "outputs": [
        {
          "output_type": "stream",
          "name": "stdout",
          "text": [
            "[50, 1, 2, 3, 5]\n"
          ]
        }
      ]
    },
    {
      "cell_type": "code",
      "source": [
        "my_string = \"one two three four five\"\n",
        "my_list = my_string.split()\n",
        "print(my_list) "
      ],
      "metadata": {
        "colab": {
          "base_uri": "https://localhost:8080/"
        },
        "id": "Ro0zz239u3Mv",
        "outputId": "aa8797bf-f2f1-4f3d-d391-e8600a12ac3e"
      },
      "execution_count": null,
      "outputs": [
        {
          "output_type": "stream",
          "name": "stdout",
          "text": [
            "['one', 'two', 'three', 'four', 'five']\n"
          ]
        }
      ]
    },
    {
      "cell_type": "markdown",
      "source": [
        "`my_list[i]` gets the value at index i,<br>\n",
        "`my_list[i] = y` sets the value at index i to be y."
      ],
      "metadata": {
        "id": "Gq6txh2cvXCV"
      }
    },
    {
      "cell_type": "code",
      "source": [
        "x = ['a', 25, 'dog', 8.43]"
      ],
      "metadata": {
        "id": "CsLZINTAvblZ"
      },
      "execution_count": null,
      "outputs": []
    },
    {
      "cell_type": "code",
      "source": [
        "print((x[0], x[3]))"
      ],
      "metadata": {
        "colab": {
          "base_uri": "https://localhost:8080/"
        },
        "id": "fbV1B11nvVNx",
        "outputId": "5b02ba7f-2e12-416b-e837-1a62d5485e5f"
      },
      "execution_count": null,
      "outputs": [
        {
          "output_type": "stream",
          "name": "stdout",
          "text": [
            "('b', 8.43)\n"
          ]
        }
      ]
    },
    {
      "cell_type": "code",
      "source": [
        "x[0] = 'b'\n",
        "print(x)"
      ],
      "metadata": {
        "colab": {
          "base_uri": "https://localhost:8080/"
        },
        "id": "5mJHika4vwiz",
        "outputId": "371c5466-d2f6-4084-bb3b-96ada7cecc2f"
      },
      "execution_count": null,
      "outputs": [
        {
          "output_type": "stream",
          "name": "stdout",
          "text": [
            "['b', 25, 'dog', 8.43]\n"
          ]
        }
      ]
    },
    {
      "cell_type": "markdown",
      "source": [
        "# CLASS TASK - 1 <br>\n",
        "**Please make a simple list** and do following exercises: <br>\n",
        "`[] or list()` creates an empty list,<br>\n",
        "`my_list[i]` gets the value at index i,<br>\n",
        "`my_list[i] = y `sets the value at index i to be y.<br>\n",
        "`len(my_list)` gets the length of the list,<br>\n",
        "`my_list.append(y)` appends the value y to the list,<br>\n",
        "`my_list.insert(i,y)` inserts the value y at index i,<br>\n",
        "`del my_list[i]` removes the value at index i, <br>\n",
        "`my_list.remove(y)` removes by value, not by index,<br>\n",
        "`my_list.clear() `clears the list<br>\n",
        "`For y in my_list:` iterates over the list<br>\n",
        "`my_list.extend(list1)` appends list1 to the end of my_list,<br>\n",
        "`my_list.index(y) `returns the index of the first element with value y,<br>\n",
        "`my_list.reverse() `reverses the elements of the list."
      ],
      "metadata": {
        "id": "aj1kEcCAvH2J"
      }
    },
    {
      "cell_type": "code",
      "source": [
        "a= list()\n",
        "b= [1,2,3,4,5]\n",
        "b"
      ],
      "metadata": {
        "colab": {
          "base_uri": "https://localhost:8080/"
        },
        "id": "WsfI2RT68YQ1",
        "outputId": "382e4e08-626e-4b51-88b0-f0bb69eff7b9"
      },
      "execution_count": null,
      "outputs": [
        {
          "output_type": "execute_result",
          "data": {
            "text/plain": [
              "[1, 2, 3, 4, 5]"
            ]
          },
          "metadata": {},
          "execution_count": 4
        }
      ]
    },
    {
      "cell_type": "code",
      "source": [
        "y= b [1]\n",
        "y\n"
      ],
      "metadata": {
        "colab": {
          "base_uri": "https://localhost:8080/"
        },
        "id": "IMhn1m_c8hqn",
        "outputId": "31c2d3fa-c024-46da-9133-71c14665c53d"
      },
      "execution_count": null,
      "outputs": [
        {
          "output_type": "execute_result",
          "data": {
            "text/plain": [
              "2"
            ]
          },
          "metadata": {},
          "execution_count": 7
        }
      ]
    },
    {
      "cell_type": "code",
      "source": [
        "len(b)\n",
        "b"
      ],
      "metadata": {
        "colab": {
          "base_uri": "https://localhost:8080/"
        },
        "id": "clv97Uy28k7C",
        "outputId": "5cfa318b-b734-4c05-83a8-e8abe2f85505"
      },
      "execution_count": null,
      "outputs": [
        {
          "output_type": "execute_result",
          "data": {
            "text/plain": [
              "[1, 2, 3, 4, 5]"
            ]
          },
          "metadata": {},
          "execution_count": 8
        }
      ]
    },
    {
      "cell_type": "code",
      "source": [
        "b.append(7)\n",
        "b"
      ],
      "metadata": {
        "colab": {
          "base_uri": "https://localhost:8080/"
        },
        "id": "vBfDO1dn8oJp",
        "outputId": "2622a1d4-328a-4496-bb5a-66f5591879ba"
      },
      "execution_count": null,
      "outputs": [
        {
          "output_type": "execute_result",
          "data": {
            "text/plain": [
              "[1, 2, 3, 4, 5, 7]"
            ]
          },
          "metadata": {},
          "execution_count": 9
        }
      ]
    },
    {
      "cell_type": "code",
      "source": [
        "b.insert(1,9)\n",
        "b"
      ],
      "metadata": {
        "colab": {
          "base_uri": "https://localhost:8080/"
        },
        "id": "oq4D1CtI8rkT",
        "outputId": "415877c4-3b9f-40d4-f1a7-7d96097ec9cc"
      },
      "execution_count": null,
      "outputs": [
        {
          "output_type": "execute_result",
          "data": {
            "text/plain": [
              "[1, 9, 2, 3, 4, 5, 7]"
            ]
          },
          "metadata": {},
          "execution_count": 10
        }
      ]
    },
    {
      "cell_type": "code",
      "source": [
        "del b[2]\n",
        "b"
      ],
      "metadata": {
        "colab": {
          "base_uri": "https://localhost:8080/"
        },
        "id": "RtttA9oQ8tZg",
        "outputId": "23902738-cd6f-4ad8-adec-764d7616e3ed"
      },
      "execution_count": null,
      "outputs": [
        {
          "output_type": "execute_result",
          "data": {
            "text/plain": [
              "[1, 9, 3, 4, 5, 7]"
            ]
          },
          "metadata": {},
          "execution_count": 13
        }
      ]
    },
    {
      "cell_type": "code",
      "source": [
        "b.remove(3)\n",
        "b\n"
      ],
      "metadata": {
        "colab": {
          "base_uri": "https://localhost:8080/"
        },
        "id": "ZiRlp8Vi8vDE",
        "outputId": "bf77dd88-29d1-4e05-c4f9-0af2991a6cbf"
      },
      "execution_count": null,
      "outputs": [
        {
          "output_type": "execute_result",
          "data": {
            "text/plain": [
              "[1, 9, 4, 5, 7]"
            ]
          },
          "metadata": {},
          "execution_count": 15
        }
      ]
    },
    {
      "cell_type": "code",
      "source": [
        "for y in b :\n",
        "  y\n"
      ],
      "metadata": {
        "id": "Ocez1WqJ9DAH"
      },
      "execution_count": null,
      "outputs": []
    },
    {
      "cell_type": "code",
      "source": [
        "a= [9,8]\n",
        "b.extend(a)\n",
        "b"
      ],
      "metadata": {
        "colab": {
          "base_uri": "https://localhost:8080/"
        },
        "id": "giYYxQDg9HrW",
        "outputId": "00770447-8342-4523-d4e7-281528b12746"
      },
      "execution_count": null,
      "outputs": [
        {
          "output_type": "execute_result",
          "data": {
            "text/plain": [
              "[1, 9, 4, 5, 7, 9, 8]"
            ]
          },
          "metadata": {},
          "execution_count": 19
        }
      ]
    },
    {
      "cell_type": "code",
      "source": [
        "b= [1,2,3,4,5]\n",
        "j= b.index(5)\n",
        "j"
      ],
      "metadata": {
        "colab": {
          "base_uri": "https://localhost:8080/"
        },
        "id": "ydPtlmdS9Ky-",
        "outputId": "d74ff042-2025-4965-b6ac-b5237f318ceb"
      },
      "execution_count": null,
      "outputs": [
        {
          "output_type": "execute_result",
          "data": {
            "text/plain": [
              "4"
            ]
          },
          "metadata": {},
          "execution_count": 21
        }
      ]
    },
    {
      "cell_type": "code",
      "source": [
        "b=[1,2,3,4,5]\n",
        "r=b.reverse()\n",
        "r"
      ],
      "metadata": {
        "id": "MZheVC8Y9OO6"
      },
      "execution_count": null,
      "outputs": []
    },
    {
      "cell_type": "code",
      "source": [
        "b.clear()\n",
        "b"
      ],
      "metadata": {
        "colab": {
          "base_uri": "https://localhost:8080/"
        },
        "id": "iVysKkX6BPuF",
        "outputId": "7c7650a3-84a9-4416-96e5-e08189ca9d73"
      },
      "execution_count": null,
      "outputs": [
        {
          "output_type": "execute_result",
          "data": {
            "text/plain": [
              "[]"
            ]
          },
          "metadata": {},
          "execution_count": 24
        }
      ]
    },
    {
      "cell_type": "markdown",
      "source": [
        "# Exercise: Dictionaries\n",
        "Create a dictionary in Python then find the correct Python code for operations supported by dictionaries. For example:\n",
        "\n",
        "`{}` or `dict()` creates an empty dictionary."
      ],
      "metadata": {
        "id": "6rUZas0DBeBU"
      }
    },
    {
      "cell_type": "code",
      "source": [
        "# Using curly braces {}\n",
        "my_dict = {'apple': 2, 'banana': 3, 'orange': 1}\n",
        "print(my_dict)"
      ],
      "metadata": {
        "colab": {
          "base_uri": "https://localhost:8080/"
        },
        "id": "q6gKRy7fCNaR",
        "outputId": "f0984b09-a6cd-4203-fc8f-800cd6072121"
      },
      "execution_count": null,
      "outputs": [
        {
          "output_type": "stream",
          "name": "stdout",
          "text": [
            "{'apple': 2, 'banana': 3, 'orange': 1}\n"
          ]
        }
      ]
    },
    {
      "cell_type": "code",
      "source": [
        "type(my_dict)"
      ],
      "metadata": {
        "colab": {
          "base_uri": "https://localhost:8080/"
        },
        "id": "bE69pC8SCTP0",
        "outputId": "1936e842-da68-46ac-a97a-5472ffa9c9ae"
      },
      "execution_count": null,
      "outputs": [
        {
          "output_type": "execute_result",
          "data": {
            "text/plain": [
              "dict"
            ]
          },
          "metadata": {},
          "execution_count": 31
        }
      ]
    },
    {
      "cell_type": "code",
      "source": [
        "# Using dict() constructor\n",
        "my_dict = dict(apple=2, banana=3, orange=1)\n",
        "print(my_dict)"
      ],
      "metadata": {
        "colab": {
          "base_uri": "https://localhost:8080/"
        },
        "id": "Eil2vdgcCaig",
        "outputId": "6e86a344-8337-4ccf-a116-33d6f4297049"
      },
      "execution_count": null,
      "outputs": [
        {
          "output_type": "stream",
          "name": "stdout",
          "text": [
            "{'apple': 2, 'banana': 3, 'orange': 1}\n"
          ]
        }
      ]
    },
    {
      "cell_type": "code",
      "source": [
        "print(len(my_dict))  # Output: 3\n",
        "print(my_dict['banana'])  # Output: 3"
      ],
      "metadata": {
        "colab": {
          "base_uri": "https://localhost:8080/"
        },
        "id": "3iZQMxpmCpS0",
        "outputId": "f6f26efc-5984-4ab3-a63d-4133e665f3ba"
      },
      "execution_count": null,
      "outputs": [
        {
          "output_type": "stream",
          "name": "stdout",
          "text": [
            "3\n",
            "3\n"
          ]
        }
      ]
    },
    {
      "cell_type": "code",
      "source": [
        "my_dict['pear'] = 4\n",
        "print(my_dict)  # Output: {'apple': 2, 'banana': 3, 'orange': 1, 'pear': 4}"
      ],
      "metadata": {
        "colab": {
          "base_uri": "https://localhost:8080/"
        },
        "id": "nsyUuJ37CvTV",
        "outputId": "ae8ca7bc-e83a-47c1-d4e6-56f11a89b9cc"
      },
      "execution_count": null,
      "outputs": [
        {
          "output_type": "stream",
          "name": "stdout",
          "text": [
            "{'apple': 2, 'banana': 3, 'orange': 1, 'pear': 4}\n"
          ]
        }
      ]
    },
    {
      "cell_type": "code",
      "source": [
        "del my_dict['orange']\n",
        "print(my_dict)  # Output: {'apple': 2, 'banana': 3, 'pear': 4}"
      ],
      "metadata": {
        "colab": {
          "base_uri": "https://localhost:8080/"
        },
        "id": "BkBsBae5Cyk9",
        "outputId": "c6920049-6e71-4569-d79b-4b1fe6f2bd02"
      },
      "execution_count": null,
      "outputs": [
        {
          "output_type": "stream",
          "name": "stdout",
          "text": [
            "{'apple': 2, 'banana': 3, 'pear': 4}\n"
          ]
        }
      ]
    },
    {
      "cell_type": "code",
      "source": [
        "print('apple' in my_dict)  # Output: True\n",
        "print(my_dict.keys())  # Output: dict_keys(['apple', 'banana', 'pear'])\n",
        "print(my_dict.values())  # Output: dict_values([2, 3, 4])\n",
        "print(my_dict.items())  # Output: dict_items([('apple', 2), ('banana', 3), ('pear', 4)])"
      ],
      "metadata": {
        "colab": {
          "base_uri": "https://localhost:8080/"
        },
        "id": "tUcnhBsDC25M",
        "outputId": "008ca723-0485-4f67-e010-fcf184792f1c"
      },
      "execution_count": null,
      "outputs": [
        {
          "output_type": "stream",
          "name": "stdout",
          "text": [
            "True\n",
            "dict_keys(['apple', 'banana', 'pear'])\n",
            "dict_values([2, 3, 4])\n",
            "dict_items([('apple', 2), ('banana', 3), ('pear', 4)])\n"
          ]
        }
      ]
    },
    {
      "cell_type": "code",
      "source": [
        "# Let's create the dictionary from the video lecture:\n",
        "dct = {'pork':25.3,'beef':33.8,'chicken':22.7}\n",
        "print(dct['pork'])\n",
        "# What if we need to increase the weight of each of the meats by 3kg:\n",
        "for k in dct:\n",
        "  dct[k]=dct[k]+3\n",
        "\n",
        "print(dct)"
      ],
      "metadata": {
        "colab": {
          "base_uri": "https://localhost:8080/"
        },
        "id": "OyWuE5JOOl-T",
        "outputId": "43ca06ad-8f28-442c-c5fc-c67b63c83e42"
      },
      "execution_count": null,
      "outputs": [
        {
          "output_type": "stream",
          "name": "stdout",
          "text": [
            "25.3\n",
            "{'pork': 28.3, 'beef': 36.8, 'chicken': 25.7}\n"
          ]
        }
      ]
    },
    {
      "cell_type": "markdown",
      "source": [
        "# CLASS TASK - 2 <br>\n",
        "**Please make a simple Dictionary** and do following exercises: <br>\n",
        "`{}` or `dict()` creates an empty dictionary.<br>\n",
        "`my_dict[k]` or `my_dict.get(k)` gets the value for key k,<br>\n",
        "`my_dict[k] = y` sets the value for key k to be y,<br>\n",
        "k in my_dict checks whether the dictionary contains the key k,<br>\n",
        "`len(my_dict)` gets the size of the dictionary,<br>\n",
        "`del my_dict[k]` or `my_dict.pop(k)` removes the key k and its value,<br>\n",
        "`my_dict.clear()` clears the dictionary,<br>\n",
        "`for k in my_dict:` iterates over the keys,<br>\n",
        "`for x in my_dict.values():` iterates over the values,<br>\n",
        "`for k, y in my_dict.items():` iterates over the key/value pairs."
      ],
      "metadata": {
        "id": "zbMz7CyZDJIp"
      }
    },
    {
      "cell_type": "code",
      "source": [
        "my_dict = {}\n"
      ],
      "metadata": {
        "id": "N9mGYQTHWSfo"
      },
      "execution_count": 4,
      "outputs": []
    },
    {
      "cell_type": "code",
      "source": [
        "my_dict.update({\"grape\": 4})"
      ],
      "metadata": {
        "id": "oX7CB1IGWbmL"
      },
      "execution_count": 7,
      "outputs": []
    },
    {
      "cell_type": "code",
      "source": [
        "\"banana\" in my_dict"
      ],
      "metadata": {
        "colab": {
          "base_uri": "https://localhost:8080/"
        },
        "id": "LzuFiHMAWwq8",
        "outputId": "ac427d94-f367-464a-eab8-0abe6a1f27e5"
      },
      "execution_count": 8,
      "outputs": [
        {
          "output_type": "execute_result",
          "data": {
            "text/plain": [
              "False"
            ]
          },
          "metadata": {},
          "execution_count": 8
        }
      ]
    },
    {
      "cell_type": "code",
      "source": [
        "len(my_dict)"
      ],
      "metadata": {
        "colab": {
          "base_uri": "https://localhost:8080/"
        },
        "id": "2I1vDAKBXHiP",
        "outputId": "f7fcbc06-7e34-4a88-e79a-8fab62b61b69"
      },
      "execution_count": 11,
      "outputs": [
        {
          "output_type": "execute_result",
          "data": {
            "text/plain": [
              "0"
            ]
          },
          "metadata": {},
          "execution_count": 11
        }
      ]
    },
    {
      "cell_type": "code",
      "source": [
        "del my_dict[\"grape\"]"
      ],
      "metadata": {
        "id": "nnz3JeHiW2Qv"
      },
      "execution_count": 10,
      "outputs": []
    },
    {
      "cell_type": "code",
      "source": [
        "my_dict.clear()"
      ],
      "metadata": {
        "id": "NdMKlwjUXPg7"
      },
      "execution_count": 12,
      "outputs": []
    },
    {
      "cell_type": "code",
      "source": [
        "for key in my_dict:\n",
        "     print(key)"
      ],
      "metadata": {
        "id": "RWLw65uHXBcX"
      },
      "execution_count": 17,
      "outputs": []
    },
    {
      "cell_type": "code",
      "source": [
        "for value in my_dict.values():\n",
        "   print(value)"
      ],
      "metadata": {
        "id": "pyC9Mt5PXsgH"
      },
      "execution_count": 18,
      "outputs": []
    },
    {
      "cell_type": "code",
      "source": [
        "for key, value in my_dict.items():\n",
        "    print(key, value)"
      ],
      "metadata": {
        "id": "qNDeHBitXz8N"
      },
      "execution_count": 19,
      "outputs": []
    },
    {
      "cell_type": "code",
      "source": [
        "my_dict.clear()"
      ],
      "metadata": {
        "id": "po0t9GemX5Z_"
      },
      "execution_count": 22,
      "outputs": []
    },
    {
      "cell_type": "markdown",
      "source": [
        "# Exercise: Sets\n",
        "Create a set in Python then find the correct Python code for operations supported by sets. For example:\n",
        "\n",
        "`set()` creates an empty set (**Note**: `{}` creates and empty `dict`)."
      ],
      "metadata": {
        "id": "jfrNMeOoEBIS"
      }
    },
    {
      "cell_type": "code",
      "source": [
        "my_set = set((1,2))\n",
        "print(my_set)"
      ],
      "metadata": {
        "colab": {
          "base_uri": "https://localhost:8080/"
        },
        "id": "YtCjkigSEY6p",
        "outputId": "9d6ef45d-b841-464f-fc82-710d4a74bf81"
      },
      "execution_count": null,
      "outputs": [
        {
          "output_type": "stream",
          "name": "stdout",
          "text": [
            "{1, 2}\n"
          ]
        }
      ]
    },
    {
      "cell_type": "code",
      "source": [
        "my_set = set({1,2})\n",
        "print(my_set)"
      ],
      "metadata": {
        "colab": {
          "base_uri": "https://localhost:8080/"
        },
        "id": "GBAeug1SEo-t",
        "outputId": "09edf92a-0dc7-45ba-e017-5cd35f800d5b"
      },
      "execution_count": null,
      "outputs": [
        {
          "output_type": "stream",
          "name": "stdout",
          "text": [
            "{1, 2}\n"
          ]
        }
      ]
    },
    {
      "cell_type": "code",
      "source": [
        "# Using curly braces {}\n",
        "my_set = {1, 2, 3}\n",
        "print(my_set)"
      ],
      "metadata": {
        "colab": {
          "base_uri": "https://localhost:8080/"
        },
        "id": "yfcRiee9Esr2",
        "outputId": "d3f58d6c-cb24-4807-e6c6-589eb8cc7c03"
      },
      "execution_count": null,
      "outputs": [
        {
          "output_type": "stream",
          "name": "stdout",
          "text": [
            "{1, 2, 3}\n"
          ]
        }
      ]
    },
    {
      "cell_type": "code",
      "source": [
        "# Empty Set\n",
        "my_set1 = set()\n",
        "# Set with initial values\n",
        "my_set1 = {10, 20, 30, 40, 50}"
      ],
      "metadata": {
        "id": "1amcLGKBE0J0"
      },
      "execution_count": null,
      "outputs": []
    },
    {
      "cell_type": "code",
      "source": [
        "print(my_set1)"
      ],
      "metadata": {
        "colab": {
          "base_uri": "https://localhost:8080/"
        },
        "id": "JsR6VEmTHAUV",
        "outputId": "b66e6f22-6462-4880-bca6-58dd1eddebc7"
      },
      "execution_count": null,
      "outputs": [
        {
          "output_type": "stream",
          "name": "stdout",
          "text": [
            "{50, 20, 40, 10, 30}\n"
          ]
        }
      ]
    },
    {
      "cell_type": "code",
      "source": [
        "# Add a single element\n",
        "my_set1.add(4) # Add a single element\n",
        "print(my_set1)"
      ],
      "metadata": {
        "colab": {
          "base_uri": "https://localhost:8080/"
        },
        "id": "iu47VE7HGklb",
        "outputId": "6b129ee3-681e-4e42-8b70-1273f152520f"
      },
      "execution_count": null,
      "outputs": [
        {
          "output_type": "stream",
          "name": "stdout",
          "text": [
            "{50, 20, 4, 40, 10, 30}\n"
          ]
        }
      ]
    },
    {
      "cell_type": "code",
      "source": [
        "# Add multiple elements\n",
        "my_set1.update([5, 6, 7])\n",
        "print(my_set1)"
      ],
      "metadata": {
        "colab": {
          "base_uri": "https://localhost:8080/"
        },
        "id": "8_zRxcW_HrsB",
        "outputId": "4e2f9a5d-b035-4375-c838-fc163d4a63ab"
      },
      "execution_count": null,
      "outputs": [
        {
          "output_type": "stream",
          "name": "stdout",
          "text": [
            "{4, 5, 6, 7, 10, 20, 40, 50}\n"
          ]
        }
      ]
    },
    {
      "cell_type": "code",
      "source": [
        "my_set1.remove(40) # Remove a specific element\n",
        "print(my_set1)"
      ],
      "metadata": {
        "colab": {
          "base_uri": "https://localhost:8080/"
        },
        "id": "oWflLBu9HcLE",
        "outputId": "cbb1efe4-dea0-4f3e-ac79-26f21c4aa7f4"
      },
      "execution_count": null,
      "outputs": [
        {
          "output_type": "stream",
          "name": "stdout",
          "text": [
            "{4, 5, 7, 10, 20, 50}\n"
          ]
        }
      ]
    },
    {
      "cell_type": "code",
      "source": [
        "# Remove an element, if present\n",
        "my_set1.discard(600)\n",
        "print(my_set1)"
      ],
      "metadata": {
        "colab": {
          "base_uri": "https://localhost:8080/"
        },
        "id": "yEx-C9N4HidC",
        "outputId": "086719e9-7685-45cb-f61f-6d53da440f34"
      },
      "execution_count": null,
      "outputs": [
        {
          "output_type": "stream",
          "name": "stdout",
          "text": [
            "{4, 5, 7, 10, 20, 50}\n"
          ]
        }
      ]
    },
    {
      "cell_type": "code",
      "source": [
        "# Remove and return an arbitrary element\n",
        "my_set1.pop()\n",
        "print(my_set1)"
      ],
      "metadata": {
        "colab": {
          "base_uri": "https://localhost:8080/"
        },
        "id": "_CzDdgE0IJGW",
        "outputId": "f29275f2-ab38-435c-e3a4-0221536556fc"
      },
      "execution_count": null,
      "outputs": [
        {
          "output_type": "stream",
          "name": "stdout",
          "text": [
            "{5, 7, 10, 20, 50}\n"
          ]
        }
      ]
    },
    {
      "cell_type": "code",
      "source": [
        "# Remove all elements\n",
        "my_set1.clear()\n",
        "print(my_set1)"
      ],
      "metadata": {
        "colab": {
          "base_uri": "https://localhost:8080/"
        },
        "id": "H2QIZUuJIPVl",
        "outputId": "b6e794d0-7ac2-4366-f4ed-e63667db60fa"
      },
      "execution_count": null,
      "outputs": [
        {
          "output_type": "stream",
          "name": "stdout",
          "text": [
            "set()\n"
          ]
        }
      ]
    },
    {
      "cell_type": "code",
      "source": [
        "set1 = {1, 2, 3, 4}\n",
        "set2 = {3, 4, 5, 6}\n",
        "\n",
        "# Union of sets\n",
        "set3 = set1.union(set2)\n",
        "print(\"Set3 =\", set3)\n",
        "\n",
        "# Intersection of sets\n",
        "set4 = set1.intersection(set2)\n",
        "print(\"Set4 =\", set4)\n",
        "\n",
        "# Difference of sets\n",
        "set5 = set1.difference(set2)\n",
        "print(\"Set5 =\", set5)\n",
        "\n",
        "# Symmetric Difference of sets (remove commons)\n",
        "set6 = set1.symmetric_difference(set2)\n",
        "print(\"Set6 =\", set6)"
      ],
      "metadata": {
        "colab": {
          "base_uri": "https://localhost:8080/"
        },
        "id": "WFaZlaXrIW_q",
        "outputId": "5aac3f75-c40e-4e5a-d54b-bd6a06d99db5"
      },
      "execution_count": null,
      "outputs": [
        {
          "output_type": "stream",
          "name": "stdout",
          "text": [
            "Set3 = {1, 2, 3, 4, 5, 6}\n",
            "Set4 = {3, 4}\n",
            "Set5 = {1, 2}\n",
            "Set6 = {1, 2, 5, 6}\n"
          ]
        }
      ]
    },
    {
      "cell_type": "code",
      "source": [
        "my_set = {1, 2, 3, 4, 5}\n",
        "\n",
        "# Check if an element is in the set\n",
        "print(3 in my_set)\n",
        "\n",
        "# Check if an element is not in the set\n",
        "print(6 not in my_set)"
      ],
      "metadata": {
        "colab": {
          "base_uri": "https://localhost:8080/"
        },
        "id": "Htr4gQQ5I9ZX",
        "outputId": "7cf0d70c-9fc8-4a41-b9a2-7fff515140ff"
      },
      "execution_count": null,
      "outputs": [
        {
          "output_type": "stream",
          "name": "stdout",
          "text": [
            "True\n",
            "True\n"
          ]
        }
      ]
    },
    {
      "cell_type": "code",
      "source": [
        "set1 = {1, 2, 3}\n",
        "set2 = {2, 3, 4}\n",
        "print(set1 | set2) #union\n",
        "print(set1 & set2) #intersection\n",
        "print(set1 - set2 ) #difference\n",
        "print(set2 - set1)\n",
        "print(set1 ^ set2) #Symmetric difference - Remove elements common to both sets\n",
        "print(1 in set1)\n",
        "print(5 in set1)"
      ],
      "metadata": {
        "colab": {
          "base_uri": "https://localhost:8080/"
        },
        "id": "ZXKzUSnMJDa-",
        "outputId": "7ea54756-f3e2-43ab-f47c-243bdeee31cf"
      },
      "execution_count": null,
      "outputs": [
        {
          "output_type": "stream",
          "name": "stdout",
          "text": [
            "{1, 2, 3, 4}\n",
            "{2, 3}\n",
            "{1}\n",
            "{4}\n",
            "{1, 4}\n",
            "True\n",
            "False\n"
          ]
        }
      ]
    },
    {
      "cell_type": "code",
      "source": [
        "set1.add(5)\n",
        "print(set1)"
      ],
      "metadata": {
        "colab": {
          "base_uri": "https://localhost:8080/"
        },
        "id": "FnCTwwJrKR1o",
        "outputId": "7fe3fec1-c1ad-4f5c-8339-f8d49ba172ae"
      },
      "execution_count": null,
      "outputs": [
        {
          "output_type": "stream",
          "name": "stdout",
          "text": [
            "{1, 2, 3, 5}\n"
          ]
        }
      ]
    },
    {
      "cell_type": "code",
      "source": [
        "set1.remove(2)\n",
        "print(set1) "
      ],
      "metadata": {
        "colab": {
          "base_uri": "https://localhost:8080/"
        },
        "id": "EnxbM_LwKXjo",
        "outputId": "7390ec40-6038-454a-8e77-4788e4806f9f"
      },
      "execution_count": null,
      "outputs": [
        {
          "output_type": "stream",
          "name": "stdout",
          "text": [
            "{1, 3, 5}\n"
          ]
        }
      ]
    },
    {
      "cell_type": "code",
      "source": [
        "#Initialize a set with values:\n",
        "set_values = {1, 2, 3}\n",
        "\n",
        "#Initialize an empty set:\n",
        "set_empty = set()\n",
        "\n",
        "#Add multiple values to a set:\n",
        "set_empty.update([1, 2, 3])\n",
        "\n",
        "#Check if a set is a subset of another:\n",
        "set1 = {1, 2}\n",
        "set2 = {1, 2, 3}\n",
        "set1 < set2 # True\n",
        "set2 < set1 # False\n",
        "\n",
        "#Check if two sets have a non-empty intersection:\n",
        "set1 & set2 # {1, 2}\n",
        "set1.isdisjoint(set2) # False\n",
        "\n",
        "#Clear a set of all values:\n",
        "set1.clear()\n",
        "set1 # set()\n",
        "\n",
        "#Delete a set entirely:\n",
        "del set1"
      ],
      "metadata": {
        "id": "ll86_XEiJbpT"
      },
      "execution_count": null,
      "outputs": []
    },
    {
      "cell_type": "markdown",
      "source": [
        "# CLASS TASK - 3\n",
        "Please make a simple Set and do following exercises:<br>\n",
        "`set()` creates an empty set,<br>\n",
        "`y in my_set` checks if the set contains y,<br>\n",
        "`len(my_set) `gets the size of the set,<br>\n",
        "`my_set.add(y) `inserts y into the set if not already present,<br>\n",
        "`my_set.remove(y) `removes y from the set if present,<br>\n",
        "`my_set.clear()` clears the set,<br>\n",
        "`for k in my_set:` iterates over the set."
      ],
      "metadata": {
        "id": "NFappqQqM8q7"
      }
    },
    {
      "cell_type": "code",
      "source": [
        "my_set = set()"
      ],
      "metadata": {
        "id": "oGBroZPPM8DA"
      },
      "execution_count": 1,
      "outputs": []
    },
    {
      "cell_type": "code",
      "source": [
        "my_set.add(9)"
      ],
      "metadata": {
        "id": "JpBYuvNElV1z"
      },
      "execution_count": 3,
      "outputs": []
    },
    {
      "cell_type": "code",
      "source": [
        "9 in my_set"
      ],
      "metadata": {
        "colab": {
          "base_uri": "https://localhost:8080/"
        },
        "id": "RXO6ztz3llk1",
        "outputId": "498281c4-d450-44a5-b24e-5258e429eb1b"
      },
      "execution_count": 4,
      "outputs": [
        {
          "output_type": "execute_result",
          "data": {
            "text/plain": [
              "True"
            ]
          },
          "metadata": {},
          "execution_count": 4
        }
      ]
    },
    {
      "cell_type": "code",
      "source": [
        "len(my_set)"
      ],
      "metadata": {
        "colab": {
          "base_uri": "https://localhost:8080/"
        },
        "id": "oo8HHPOglqxZ",
        "outputId": "e1951956-e061-4278-d448-1f68f47f48da"
      },
      "execution_count": 5,
      "outputs": [
        {
          "output_type": "execute_result",
          "data": {
            "text/plain": [
              "1"
            ]
          },
          "metadata": {},
          "execution_count": 5
        }
      ]
    },
    {
      "cell_type": "code",
      "source": [
        "my_set.add(2)\n"
      ],
      "metadata": {
        "id": "KOzc9-z6lxa8"
      },
      "execution_count": 6,
      "outputs": []
    },
    {
      "cell_type": "code",
      "source": [
        "my_set.remove(2)"
      ],
      "metadata": {
        "id": "19afbZyEl-LG"
      },
      "execution_count": 8,
      "outputs": []
    },
    {
      "cell_type": "code",
      "source": [
        "my_set.clear"
      ],
      "metadata": {
        "colab": {
          "base_uri": "https://localhost:8080/"
        },
        "id": "E5WtMkp8mDwI",
        "outputId": "3016ca87-7e80-4f98-95fa-262c517ea236"
      },
      "execution_count": 9,
      "outputs": [
        {
          "output_type": "execute_result",
          "data": {
            "text/plain": [
              "<function set.clear>"
            ]
          },
          "metadata": {},
          "execution_count": 9
        }
      ]
    },
    {
      "cell_type": "markdown",
      "source": [
        "Write a Python function to compute and return the union of two sets. Then do the same for the intersection of two sets."
      ],
      "metadata": {
        "id": "Mj82IX_5OHIN"
      }
    },
    {
      "cell_type": "code",
      "source": [
        "def set_union(set1, set2):\n",
        "    \"\"\"\n",
        "    Computes the union of two sets.\n",
        "\n",
        "    Parameters:\n",
        "    set1 (1,2,3): The first set.\n",
        "    set2 (3,4,5): The second set.\n",
        "\n",
        "    Returns:\n",
        "    set: The union of set1 and set2.\n",
        "    \"\"\"\n",
        "    return \n",
        "\n",
        "\n",
        "def set_intersection(set1, set2):\n",
        "    \"\"\"\n",
        "    Computes the intersection of two sets.\n",
        "\n",
        "    Parameters:\n",
        "    set1 (set): The first set.\n",
        "    set2 (set): The second set.\n",
        "\n",
        "    Returns:\n",
        "    set: The intersection of set1 and set2.\n",
        "    \"\"\"\n",
        "    return "
      ],
      "metadata": {
        "id": "QdJpnuWyNXEM"
      },
      "execution_count": null,
      "outputs": []
    },
    {
      "cell_type": "code",
      "source": [
        "#union of sets\n",
        "def set_union(set1, set2):\n",
        "    \"\"\"\n",
        "    Computes the union of two sets.\n",
        "\n",
        "    Parameters:\n",
        "    set1 (set): The first set.\n",
        "    set2 (set): The second set.\n",
        "\n",
        "    Returns:\n",
        "    set: The union of set1 and set2.\n",
        "    \"\"\"\n",
        "    return set1 | set2\n",
        "set1 = {1, 2, 3}\n",
        "set2 = {3, 4, 5}\n",
        "union_set = set_union(set1, set2)\n",
        "print(union_set)"
      ],
      "metadata": {
        "colab": {
          "base_uri": "https://localhost:8080/"
        },
        "id": "UiFc_1VunWUm",
        "outputId": "5a4feb62-4cd7-4cf9-902b-cf5f638df97e"
      },
      "execution_count": 15,
      "outputs": [
        {
          "output_type": "stream",
          "name": "stdout",
          "text": [
            "{1, 2, 3, 4, 5}\n"
          ]
        }
      ]
    },
    {
      "cell_type": "code",
      "source": [
        "#intersection of set\n",
        "def set_intersection(set1, set2):\n",
        "    \"\"\"\n",
        "    Computes the intersection of two sets.\n",
        "\n",
        "    Parameters:\n",
        "    set1 (set): The first set.\n",
        "    set2 (set): The second set.\n",
        "\n",
        "    Returns:\n",
        "    set: The intersection of set1 and set2.\n",
        "    \"\"\"\n",
        "    return set1 & set2\n",
        "\n",
        "set1 = {1, 2, 3, 4, 5}\n",
        "set2 = {4, 5, 6, 7, 8}\n",
        "intersection_set = set_intersection(set1, set2)\n",
        "print(intersection_set)\n"
      ],
      "metadata": {
        "colab": {
          "base_uri": "https://localhost:8080/"
        },
        "id": "zd0OBsZxq4hj",
        "outputId": "a19ecd0a-d1c8-4f1f-8866-0437d28d73f4"
      },
      "execution_count": 16,
      "outputs": [
        {
          "output_type": "stream",
          "name": "stdout",
          "text": [
            "{4, 5}\n"
          ]
        }
      ]
    },
    {
      "cell_type": "markdown",
      "source": [
        "Use above methods and print something and try idiot-proofing your code"
      ],
      "metadata": {
        "id": "_8tBhPb-OTAM"
      }
    },
    {
      "cell_type": "code",
      "source": [
        "def union(set1, set2):\n",
        "  if not isinstance(set1, set) or not isinstance(set2, set): \n",
        "    raise TypeError(\"Arguments must be sets\")\n",
        "  return set1 | set2\n",
        "\n",
        "def intersection(set1, set2):\n",
        "  if not isinstance(set1, set) or not isinstance(set2, set):\n",
        "    raise TypeError(\"Arguments must be sets\")\n",
        "  return set1 & set2\n",
        "\n",
        "#Now if we pass in values that aren't sets, we'll get a helpful TypeError instead of confusing errors:"
      ],
      "metadata": {
        "id": "jpORtTB_OQUs"
      },
      "execution_count": null,
      "outputs": []
    },
    {
      "cell_type": "code",
      "source": [
        "def set_union(set1, set2):\n",
        "    \"\"\"\n",
        "    Computes the union of two sets.\n",
        "\n",
        "    Parameters:\n",
        "    set1 (set): The first set.\n",
        "    set2 (set): The second set.\n",
        "\n",
        "    Returns:\n",
        "    set: The union of set1 and set2.\n",
        "    \"\"\"\n",
        "    if not isinstance(set1, set) or not isinstance(set2, set):\n",
        "        raise TypeError(\"Both inputs must be sets.\")\n",
        "    return set1 | set2\n",
        "\n",
        "def set_intersection(set1, set2):\n",
        "    \"\"\"\n",
        "    Computes the intersection of two sets.\n",
        "\n",
        "    Parameters:\n",
        "    set1 (set): The first set.\n",
        "    set2 (set): The second set.\n",
        "\n",
        "    Returns:\n",
        "    set: The intersection of set1 and set2.\n",
        "    \"\"\"\n",
        "    if not isinstance(set1, set) or not isinstance(set2, set):\n",
        "        raise TypeError(\"Both inputs must be sets.\")\n",
        "    return set1 & set2\n",
        "\n",
        "# Example usage\n",
        "set1 = {1, 2, 3, 4, 5}\n",
        "set2 = {4, 5, 6, 7, 8}\n",
        "\n",
        "# Compute the union of the two sets\n",
        "union_set = set_union(set1, set2)\n",
        "print(\"The union of set1 and set2 is:\", union_set)\n",
        "\n",
        "# Compute the intersection of the two sets\n",
        "intersection_set = set_intersection(set1, set2)\n",
        "print(\"The intersection of set1 and set2 is:\", intersection_set)\n",
        "\n",
        "# Try to pass invalid inputs to the set_union function\n",
        "try:\n",
        "    set_union(set1, [4, 5, 6])\n",
        "except TypeError as e:\n",
        "    print(\"Error:\", e)\n"
      ],
      "metadata": {
        "colab": {
          "base_uri": "https://localhost:8080/"
        },
        "id": "jpF2OLPwrpNR",
        "outputId": "c86c7ddd-853b-43cd-ec42-fed7df36510a"
      },
      "execution_count": 17,
      "outputs": [
        {
          "output_type": "stream",
          "name": "stdout",
          "text": [
            "The union of set1 and set2 is: {1, 2, 3, 4, 5, 6, 7, 8}\n",
            "The intersection of set1 and set2 is: {4, 5}\n",
            "Error: Both inputs must be sets.\n"
          ]
        }
      ]
    },
    {
      "cell_type": "code",
      "source": [
        "#union([1, 2, 3], 4) # Raises TypeError"
      ],
      "metadata": {
        "id": "RYN07D2_Por0"
      },
      "execution_count": null,
      "outputs": []
    },
    {
      "cell_type": "markdown",
      "source": [
        "# Discussion: Shopping List?\n",
        "Could be a `dictionary`, `list`, `tuple` or `set`. Suggest pros and cons of each with examples."
      ],
      "metadata": {
        "id": "bm6rm7F6QtX8"
      }
    },
    {
      "cell_type": "code",
      "source": [
        "#pros \n",
        "#In a dictionary each item of a list can be related to the information added afterwards like price, quantity and helps to find specific item more easily\n",
        "#cons\n",
        "#They are unordered and difficult to work with compared to simpler Data stucture like list and tuples\n",
        "shop_dict = {\n",
        "    \"apples\": {\"quantity\": 5, \"price\": 1.99},\n",
        "    \"bananas\": {\"quantity\": 2, \"price\": 0.99},\n",
        "    \"bread\": {\"quantity\": 1, \"price\": 2.99}\n",
        "}\n",
        "\n"
      ],
      "metadata": {
        "id": "9jm1JJfGQsuQ"
      },
      "execution_count": 19,
      "outputs": []
    },
    {
      "cell_type": "code",
      "source": [
        "#pros\n",
        "#LIST is ordered and easy to work and change\n",
        "#cons\n",
        "#can only store simple data types like strings or numbers\n",
        "shopping_list = [\"table\", \"chair\", \"bottle\"]\n"
      ],
      "metadata": {
        "id": "-sxS6t8DCSNL"
      },
      "execution_count": 20,
      "outputs": []
    },
    {
      "cell_type": "markdown",
      "source": [
        "# Stacks\n",
        "There isn't a native stack or queue function in Python so to create these ADTs you need to use a suitable type. Using a `list` as a proxy write functions to `push`, `peek` and `pop` from a `stack`. <br>\n",
        "Hint: `Lst.pop(2)` pops the 3rd element from the list `Lst`."
      ],
      "metadata": {
        "id": "5J9Y1JoFRgv8"
      }
    },
    {
      "cell_type": "code",
      "source": [
        "# Write your code here: \n",
        "def push(Lst,x):\n",
        "  Lst.append(x)\n",
        "  return Lst\n",
        "\n",
        "def peek(Lst):\n",
        "\n",
        "  return c\n",
        "\n",
        "def pop(Lst):\n",
        "\n",
        "  return c"
      ],
      "metadata": {
        "id": "p-Ocv9VjQ8vB"
      },
      "execution_count": 22,
      "outputs": []
    },
    {
      "cell_type": "markdown",
      "source": [
        "# Queues\n",
        "Now that you've set up stacks try and do the same for queues:"
      ],
      "metadata": {
        "id": "K32tzTR6SDe2"
      }
    },
    {
      "cell_type": "code",
      "source": [
        "# Write your code here: \n",
        "def enqueue(Lst,x):\n",
        "\n",
        "\n",
        "  return Lst\n",
        "\n",
        "def peek(Lst):\n",
        "\n",
        "  return c\n",
        "\n",
        "def dequeue(Lst):\n",
        "\n",
        "  return c"
      ],
      "metadata": {
        "id": "nLfu1RGySA5x"
      },
      "execution_count": null,
      "outputs": []
    },
    {
      "cell_type": "markdown",
      "source": [
        "# Priority Queue\n",
        "\n",
        "Try now to write a Priority Queue function using a suitable ADT"
      ],
      "metadata": {
        "id": "rvrbDsezXBOC"
      }
    },
    {
      "cell_type": "code",
      "source": [
        "queue = {}\n",
        "\n",
        "def add(item, priority):\n",
        "  queue[priority] = item\n",
        "\n",
        "def pop():\n",
        "  priority, item = sorted(queue.items(), key=lambda x: x[0])[-1]\n",
        "  del queue[priority]\n",
        "  return item"
      ],
      "metadata": {
        "id": "TpVxNkKLTpzR"
      },
      "execution_count": null,
      "outputs": []
    },
    {
      "cell_type": "code",
      "source": [
        "add(\"Medicine\", 3)\n",
        "add(\"Apple\", 2)\n",
        "add(\"Movie Disk\", 1)\n",
        "print(queue)"
      ],
      "metadata": {
        "colab": {
          "base_uri": "https://localhost:8080/"
        },
        "id": "bA8O1b4-T_l6",
        "outputId": "a43f50f2-9815-4e85-b951-7f646abc036c"
      },
      "execution_count": null,
      "outputs": [
        {
          "output_type": "stream",
          "name": "stdout",
          "text": [
            "{3: 'Medicine', 2: 'Apple', 1: 'Movie Disk'}\n"
          ]
        }
      ]
    },
    {
      "cell_type": "code",
      "source": [
        "pop()\n",
        "print(queue)"
      ],
      "metadata": {
        "colab": {
          "base_uri": "https://localhost:8080/"
        },
        "id": "osM1p6NJU1vf",
        "outputId": "90ae0a99-06ca-433e-f720-fbfddf03c99b"
      },
      "execution_count": null,
      "outputs": [
        {
          "output_type": "stream",
          "name": "stdout",
          "text": [
            "{2: 'Apple', 1: 'Movie Disk'}\n"
          ]
        }
      ]
    },
    {
      "cell_type": "markdown",
      "source": [
        "# Do scratch implementation of union & intersection using sets"
      ],
      "metadata": {
        "id": "wFGVEoCtrHPg"
      }
    },
    {
      "cell_type": "code",
      "source": [
        "#Your code here"
      ],
      "metadata": {
        "id": "cE3g0JiWrFJk"
      },
      "execution_count": null,
      "outputs": []
    },
    {
      "cell_type": "markdown",
      "source": [
        "Explain how two stacks can be used to implement a queue with all relevant operations. Note this is a popular interview question.\n",
        "\n",
        "Hint: use one stack for ‘arrivals’ and the other for ‘departures’.\n"
      ],
      "metadata": {
        "id": "uFC92N5psi-l"
      }
    },
    {
      "cell_type": "code",
      "source": [
        "# Your code here\n",
        "left_stack = []\n",
        "right_stack = []\n",
        "\n",
        "def enqueue(item):\n",
        "  left_stack.append(item)\n",
        "\n",
        "def dequeue():\n",
        "  if not right_stack:\n",
        "    while left_stack:\n",
        "      right_stack.append(left_stack.pop())\n",
        "  return right_stack.pop()"
      ],
      "metadata": {
        "id": "JiSYsvA0snwH"
      },
      "execution_count": null,
      "outputs": []
    },
    {
      "cell_type": "code",
      "source": [
        "enqueue(5)\n",
        "enqueue(6)\n",
        "enqueue(7)\n",
        "print(left_stack)"
      ],
      "metadata": {
        "id": "xmyHV5pbuJQl"
      },
      "execution_count": null,
      "outputs": []
    },
    {
      "cell_type": "code",
      "source": [
        "print(right_stack)"
      ],
      "metadata": {
        "colab": {
          "base_uri": "https://localhost:8080/"
        },
        "id": "qo35Hj7NudFr",
        "outputId": "fced01a3-7939-46f1-ff31-5ffb4df6c3bd"
      },
      "execution_count": null,
      "outputs": [
        {
          "output_type": "stream",
          "name": "stdout",
          "text": [
            "[7, 6]\n"
          ]
        }
      ]
    },
    {
      "cell_type": "markdown",
      "source": [
        "# Opeartors"
      ],
      "metadata": {
        "id": "x3iRCh4ZvtpS"
      }
    },
    {
      "cell_type": "code",
      "source": [
        "print(1 + 2) # 3\n",
        "print(8 - 3) # 5\n",
        "print(2 * 4) # 8\n",
        "print(10 / 2) # 5.0\n",
        "print(19 // 6) # 3\n",
        "print(10 % 2) # 0\n",
        "print(2 ** 3) # 8\n",
        "print(19 // 7) # 2\n",
        "print(19 % 6) # 1"
      ],
      "metadata": {
        "colab": {
          "base_uri": "https://localhost:8080/"
        },
        "id": "2aelg4nBvv7w",
        "outputId": "3a94e00f-652e-49d1-de89-cfb9ca886690"
      },
      "execution_count": null,
      "outputs": [
        {
          "output_type": "stream",
          "name": "stdout",
          "text": [
            "3\n",
            "5\n",
            "8\n",
            "5.0\n",
            "3\n",
            "0\n",
            "8\n",
            "2\n",
            "1\n"
          ]
        }
      ]
    },
    {
      "cell_type": "code",
      "source": [
        "print(bin(0b1010 & 0b1100)) # AND - Sets each bit to 1 if both bits are 1\n",
        "print(bin(0b1010 | 0b1100)) # OR - Sets each bit to 1 if one of two bits is 1\n",
        "print(bin(~0b1010)) # 1010-> 0101 == 1010 + 1 = 1011 ( x = -x-1) [BITWISE-NOT]\n",
        "##Performs logical NOT on a bit-by-bit basis, inverting each bit so that 0 becomes 1 and 1 becomes 0. Same as -x-1.\n",
        "\n",
        "print(bin(0b1010 ^ 0b1100)) # XOR - Sets each bit to 1 if only one of two bits is 1\n",
        "\n",
        "print(bin(0b1010 << 2)) #BITWISE-LEFT \"Left shifting means adding zeros on the right and letting the leftmost bits fall off.\"\n",
        "print(bin(0b1010 >> 3)) #BITWISE-RIGHT \"Right shifting means adding copies of the leftmost bit on the left and letting the rightmost bits fall off.\""
      ],
      "metadata": {
        "colab": {
          "base_uri": "https://localhost:8080/"
        },
        "id": "L0QP_PwqwDVb",
        "outputId": "9b591325-2fd6-404f-cbe1-dbe29096d3b1"
      },
      "execution_count": null,
      "outputs": [
        {
          "output_type": "stream",
          "name": "stdout",
          "text": [
            "0b1000\n",
            "0b1110\n",
            "-0b1011\n",
            "0b110\n",
            "0b101000\n",
            "0b1\n"
          ]
        }
      ]
    },
    {
      "cell_type": "code",
      "source": [
        "# Bitwise AND example\n",
        "a = 0b1010\n",
        "b = 0b1100\n",
        "result = a & b\n",
        "print(bin(result))  # Output: 0b1000"
      ],
      "metadata": {
        "colab": {
          "base_uri": "https://localhost:8080/"
        },
        "id": "0OWJ9T4jxMKa",
        "outputId": "c7e0508f-dda2-4649-db6b-b773947f323d"
      },
      "execution_count": null,
      "outputs": [
        {
          "output_type": "stream",
          "name": "stdout",
          "text": [
            "0b1000\n"
          ]
        }
      ]
    },
    {
      "cell_type": "markdown",
      "source": [
        "# Play with bitwise operators..."
      ],
      "metadata": {
        "id": "ick9pOWZ7hNw"
      }
    },
    {
      "cell_type": "code",
      "source": [
        "#Your code here"
      ],
      "metadata": {
        "id": "1_3pmwr-7oRo"
      },
      "execution_count": null,
      "outputs": []
    },
    {
      "cell_type": "markdown",
      "source": [
        "# THE END"
      ],
      "metadata": {
        "id": "s6iQpnK88ejl"
      }
    }
  ]
}